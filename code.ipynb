{
  "nbformat": 4,
  "nbformat_minor": 0,
  "metadata": {
    "colab": {
      "provenance": [],
      "collapsed_sections": [
        "2aLx65yHZ35l",
        "zN5ITqEHnke1"
      ]
    },
    "kernelspec": {
      "name": "python3",
      "display_name": "Python 3"
    },
    "language_info": {
      "name": "python"
    }
  },
  "cells": [
    {
      "cell_type": "markdown",
      "source": [
        "# Proyecto de minería de Datos:\n",
        "# Speed dating\n",
        "\n",
        "\n",
        "\n"
      ],
      "metadata": {
        "id": "6pq-5jxfwio3"
      }
    },
    {
      "cell_type": "markdown",
      "source": [
        "Nombre:\n",
        "- Tomás Alvarado\n",
        "- José Tomás Aguilera\n",
        "- Sebastián Brzvic\n",
        "- Lukas Vásquez\n",
        "- Patricio Yañez"
      ],
      "metadata": {
        "id": "ppohdf6gCoC3"
      }
    },
    {
      "cell_type": "code",
      "execution_count": null,
      "metadata": {
        "id": "nWHiXRE1wRHM"
      },
      "outputs": [],
      "source": [
        "#librerías necesarias para abordar el informe\n",
        "import pandas as pd\n",
        "import numpy as np\n",
        "import matplotlib.pyplot as plt\n",
        "import seaborn as sns; sns.set(style=\"ticks\", color_codes=True)\n",
        "\n",
        "import matplotlib\n",
        "matplotlib.style.use('ggplot')"
      ]
    },
    {
      "cell_type": "code",
      "source": [
        "\n",
        "#importar el dataset previamente guardado en el enviroment\n",
        "dataset_sample = pd.read_csv('/content/speeddating.csv')\n"
      ],
      "metadata": {
        "id": "w4L1o2usAZjI"
      },
      "execution_count": null,
      "outputs": []
    },
    {
      "cell_type": "markdown",
      "source": [
        "## Explicación de la columnas\n",
        "\n",
        "\n",
        "| Variable                      | Descripción                                                 |\n",
        "|-------------------------------|------------------------------------------------------------|\n",
        "| iid                        | identificador de la persona                                       |\n",
        "| pid                        | identificador de la pareja                                       |\n",
        "| gender                        | Género de la persona                                       |\n",
        "| age                           | Edad de la persona                                         |\n",
        "| age_o                         | Edad de la pareja                                          |\n",
        "| d_age                         | Diferencia de edad                                         |\n",
        "| d_age                         | Diferencia de edad                                         |\n",
        "| race                          | Raza de la persona                                         |\n",
        "| race_o                        | Raza de la pareja                                          |\n",
        "| samerace                      | Si las dos personas tienen la misma raza o no               |\n",
        "| importance_same_race          | ¿Qué tan importante es que la pareja sea de la misma raza?  |\n",
        "| importance_same_religion      | ¿Qué tan importante es que la pareja tenga la misma religión? |\n",
        "| field                         | Campo de estudio                                           |\n",
        "| field_cd                         | Campo de estudio codificado (del 1 al 16) |pref_o_attractive             | ¿Qué tan importante considera la pareja la atracción?       |\n",
        "| pref_o_sinsere                | ¿Qué tan importante considera la pareja la sinceridad?      |\n",
        "| pref_o_intelligence           | ¿Qué tan importante considera la pareja la inteligencia?    |\n",
        "| pref_o_funny                  | ¿Qué tan importante considera la pareja el sentido del humor? |\n",
        "| pref_o_ambitious              | ¿Qué tan importante considera la pareja la ambición?        |\n",
        "| pref_o_shared_interests       | ¿Qué tan importante considera la pareja los intereses compartidos? |\n",
        "| attractive_o                  | Calificación de la pareja (sobre mí) sobre atractivo        |\n",
        "| sincere_o                     | Calificación de la pareja (sobre mí) sobre sinceridad       |\n",
        "| intelligence_o                | Calificación de la pareja (sobre mí) sobre inteligencia     |\n",
        "| funny_o                       | Calificación de la pareja (sobre mí) sobre sentido del humor |\n",
        "| ambitous_o                    | Calificación de la pareja (sobre mí) sobre ambición         |\n",
        "| shared_interests_o            | Calificación de la pareja (sobre mí) sobre intereses compartidos |\n",
        "| attractive_important          | ¿Qué buscas en una pareja? - Atractivo                      |\n",
        "| sincere_important             | ¿Qué buscas en una pareja? - Sinceridad                     |\n",
        "| intellicence_important        | ¿Qué buscas en una pareja? - Inteligencia                   |\n",
        "| funny_important               | ¿Qué buscas en una pareja? - Sentido del humor              |\n",
        "| ambtition_important           | ¿Qué buscas en una pareja? - Ambición                       |\n",
        "| shared_interests_important    | ¿Qué buscas en una pareja? - Intereses compartidos          |\n",
        "| attractive                    | Califica tu atractivo                                       |\n",
        "| sincere                       | Califica tu sinceridad                                      |\n",
        "| intelligence                  | Califica tu inteligencia                                    |\n",
        "| funny                         | Califica tu sentido del humor                               |\n",
        "| ambition                      | Califica tu ambición                                        |\n",
        "| attractive_partner            | Califica a tu pareja - Atractivo                            |\n",
        "| sincere_partner               | Califica a tu pareja - Sinceridad                           |\n",
        "| intelligence_partner          | Califica a tu pareja - Inteligencia                         |\n",
        "| funny_partner                 | Califica a tu pareja - Sentido del humor                    |\n",
        "| ambition_partner              | Califica a tu pareja - Ambición                             |\n",
        "| shared_interests_partner      | Califica a tu pareja - Intereses compartidos                |\n",
        "| sports                        | Tus intereses personales [1-10]                             |\n",
        "| interests_correlate           | Correlación entre los intereses de los participantes |\n",
        "| expected_happy_with_sd_people | ¿Qué tan feliz esperas ser con las personas que conoces durante el evento de speed-dating? |\n",
        "| expected_num_interested_in_me | De las 20 personas que conocerás, ¿cuántas crees que estarán interesadas en salir contigo? |\n",
        "| expected_num_matches          | ¿Cuántos matches esperas obtener?                          |\n",
        "| like                          | ¿Te gustó tu pareja?                                       |\n",
        "| guess_prob_liked              | ¿Qué tan probable crees que es que tu pareja te guste a ti? |\n",
        "| met                           | ¿Has conocido a tu pareja antes?                            |\n",
        "| decision                      | Decisión en la noche del evento.                           |\n",
        "| decision_o                    | Decisión de la pareja en la noche del evento.              |\n",
        "| match                         | Match (sí/no)\n",
        "\n"
      ],
      "metadata": {
        "id": "yUgKd68Dav5i"
      }
    },
    {
      "cell_type": "markdown",
      "source": [
        "# Exploración de datos"
      ],
      "metadata": {
        "id": "oXlornS6GYNt"
      }
    },
    {
      "cell_type": "markdown",
      "source": [
        "Número de filas y columnas:"
      ],
      "metadata": {
        "id": "u5lN9zD-GPmk"
      }
    },
    {
      "cell_type": "code",
      "source": [
        "dataset_sample.shape"
      ],
      "metadata": {
        "colab": {
          "base_uri": "https://localhost:8080/"
        },
        "id": "frxj8zAc94lh",
        "outputId": "313b71c3-61a6-4092-a1d7-fde3ea96ef00"
      },
      "execution_count": null,
      "outputs": [
        {
          "output_type": "execute_result",
          "data": {
            "text/plain": [
              "(8378, 123)"
            ]
          },
          "metadata": {},
          "execution_count": 3
        }
      ]
    },
    {
      "cell_type": "markdown",
      "source": [
        "Estadísticas de los atributos numéricos:"
      ],
      "metadata": {
        "id": "Pl_d5eXGGbFw"
      }
    },
    {
      "cell_type": "code",
      "source": [
        "dataset_sample.describe()"
      ],
      "metadata": {
        "colab": {
          "base_uri": "https://localhost:8080/",
          "height": 390
        },
        "id": "LuX3CLPY-Vf2",
        "outputId": "b7f58e49-2620-46b6-aaa5-57d7ec77f8c2"
      },
      "execution_count": null,
      "outputs": [
        {
          "output_type": "execute_result",
          "data": {
            "text/plain": [
              "              wave          age        age_o        d_age  \\\n",
              "count  8378.000000  8283.000000  8274.000000  8378.000000   \n",
              "mean     11.350919    26.358928    26.364999     4.185605   \n",
              "std       5.995903     3.566763     3.563648     4.596171   \n",
              "min       1.000000    18.000000    18.000000     0.000000   \n",
              "25%       7.000000    24.000000    24.000000     1.000000   \n",
              "50%      11.000000    26.000000    26.000000     3.000000   \n",
              "75%      15.000000    28.000000    28.000000     5.000000   \n",
              "max      21.000000    55.000000    55.000000    37.000000   \n",
              "\n",
              "       importance_same_race  importance_same_religion  pref_o_attractive  \\\n",
              "count           8299.000000               8299.000000        8289.000000   \n",
              "mean               3.784793                  3.651645          22.495347   \n",
              "std                2.845708                  2.805237          12.569802   \n",
              "min                0.000000                  1.000000           0.000000   \n",
              "25%                1.000000                  1.000000          15.000000   \n",
              "50%                3.000000                  3.000000          20.000000   \n",
              "75%                6.000000                  6.000000          25.000000   \n",
              "max               10.000000                 10.000000         100.000000   \n",
              "\n",
              "       pref_o_sincere  pref_o_intelligence  pref_o_funny  ...        music  \\\n",
              "count     8289.000000          8289.000000   8280.000000  ...  8299.000000   \n",
              "mean        17.396867            20.270759     17.459714  ...     7.851066   \n",
              "std          7.044003             6.782895      6.085526  ...     1.791827   \n",
              "min          0.000000             0.000000      0.000000  ...     1.000000   \n",
              "25%         15.000000            17.390000     15.000000  ...     7.000000   \n",
              "50%         18.370000            20.000000     18.000000  ...     8.000000   \n",
              "75%         20.000000            23.810000     20.000000  ...     9.000000   \n",
              "max         60.000000            50.000000     50.000000  ...    10.000000   \n",
              "\n",
              "          shopping         yoga  interests_correlate  \\\n",
              "count  8299.000000  8299.000000          8220.000000   \n",
              "mean      5.631281     4.339197             0.196010   \n",
              "std       2.608913     2.717612             0.303539   \n",
              "min       1.000000     0.000000            -0.830000   \n",
              "25%       4.000000     2.000000            -0.020000   \n",
              "50%       6.000000     4.000000             0.210000   \n",
              "75%       8.000000     7.000000             0.430000   \n",
              "max      10.000000    10.000000             0.910000   \n",
              "\n",
              "       expected_happy_with_sd_people  expected_num_interested_in_me  \\\n",
              "count                    8277.000000                    1800.000000   \n",
              "mean                        5.534131                       5.570556   \n",
              "std                         1.734059                       4.762569   \n",
              "min                         1.000000                       0.000000   \n",
              "25%                         5.000000                       2.000000   \n",
              "50%                         6.000000                       4.000000   \n",
              "75%                         7.000000                       8.000000   \n",
              "max                        10.000000                      20.000000   \n",
              "\n",
              "       expected_num_matches         like  guess_prob_liked          met  \n",
              "count           7205.000000  8138.000000       8069.000000  8003.000000  \n",
              "mean               3.207814     6.134087          5.207523     0.049856  \n",
              "std                2.444813     1.841285          2.129565     0.282168  \n",
              "min                0.000000     0.000000          0.000000     0.000000  \n",
              "25%                2.000000     5.000000          4.000000     0.000000  \n",
              "50%                3.000000     6.000000          5.000000     0.000000  \n",
              "75%                4.000000     7.000000          7.000000     0.000000  \n",
              "max               18.000000    10.000000         10.000000     8.000000  \n",
              "\n",
              "[8 rows x 59 columns]"
            ],
            "text/html": [
              "\n",
              "\n",
              "  <div id=\"df-0378be22-49ab-4eab-9b4a-093e7806a6f3\">\n",
              "    <div class=\"colab-df-container\">\n",
              "      <div>\n",
              "<style scoped>\n",
              "    .dataframe tbody tr th:only-of-type {\n",
              "        vertical-align: middle;\n",
              "    }\n",
              "\n",
              "    .dataframe tbody tr th {\n",
              "        vertical-align: top;\n",
              "    }\n",
              "\n",
              "    .dataframe thead th {\n",
              "        text-align: right;\n",
              "    }\n",
              "</style>\n",
              "<table border=\"1\" class=\"dataframe\">\n",
              "  <thead>\n",
              "    <tr style=\"text-align: right;\">\n",
              "      <th></th>\n",
              "      <th>wave</th>\n",
              "      <th>age</th>\n",
              "      <th>age_o</th>\n",
              "      <th>d_age</th>\n",
              "      <th>importance_same_race</th>\n",
              "      <th>importance_same_religion</th>\n",
              "      <th>pref_o_attractive</th>\n",
              "      <th>pref_o_sincere</th>\n",
              "      <th>pref_o_intelligence</th>\n",
              "      <th>pref_o_funny</th>\n",
              "      <th>...</th>\n",
              "      <th>music</th>\n",
              "      <th>shopping</th>\n",
              "      <th>yoga</th>\n",
              "      <th>interests_correlate</th>\n",
              "      <th>expected_happy_with_sd_people</th>\n",
              "      <th>expected_num_interested_in_me</th>\n",
              "      <th>expected_num_matches</th>\n",
              "      <th>like</th>\n",
              "      <th>guess_prob_liked</th>\n",
              "      <th>met</th>\n",
              "    </tr>\n",
              "  </thead>\n",
              "  <tbody>\n",
              "    <tr>\n",
              "      <th>count</th>\n",
              "      <td>8378.000000</td>\n",
              "      <td>8283.000000</td>\n",
              "      <td>8274.000000</td>\n",
              "      <td>8378.000000</td>\n",
              "      <td>8299.000000</td>\n",
              "      <td>8299.000000</td>\n",
              "      <td>8289.000000</td>\n",
              "      <td>8289.000000</td>\n",
              "      <td>8289.000000</td>\n",
              "      <td>8280.000000</td>\n",
              "      <td>...</td>\n",
              "      <td>8299.000000</td>\n",
              "      <td>8299.000000</td>\n",
              "      <td>8299.000000</td>\n",
              "      <td>8220.000000</td>\n",
              "      <td>8277.000000</td>\n",
              "      <td>1800.000000</td>\n",
              "      <td>7205.000000</td>\n",
              "      <td>8138.000000</td>\n",
              "      <td>8069.000000</td>\n",
              "      <td>8003.000000</td>\n",
              "    </tr>\n",
              "    <tr>\n",
              "      <th>mean</th>\n",
              "      <td>11.350919</td>\n",
              "      <td>26.358928</td>\n",
              "      <td>26.364999</td>\n",
              "      <td>4.185605</td>\n",
              "      <td>3.784793</td>\n",
              "      <td>3.651645</td>\n",
              "      <td>22.495347</td>\n",
              "      <td>17.396867</td>\n",
              "      <td>20.270759</td>\n",
              "      <td>17.459714</td>\n",
              "      <td>...</td>\n",
              "      <td>7.851066</td>\n",
              "      <td>5.631281</td>\n",
              "      <td>4.339197</td>\n",
              "      <td>0.196010</td>\n",
              "      <td>5.534131</td>\n",
              "      <td>5.570556</td>\n",
              "      <td>3.207814</td>\n",
              "      <td>6.134087</td>\n",
              "      <td>5.207523</td>\n",
              "      <td>0.049856</td>\n",
              "    </tr>\n",
              "    <tr>\n",
              "      <th>std</th>\n",
              "      <td>5.995903</td>\n",
              "      <td>3.566763</td>\n",
              "      <td>3.563648</td>\n",
              "      <td>4.596171</td>\n",
              "      <td>2.845708</td>\n",
              "      <td>2.805237</td>\n",
              "      <td>12.569802</td>\n",
              "      <td>7.044003</td>\n",
              "      <td>6.782895</td>\n",
              "      <td>6.085526</td>\n",
              "      <td>...</td>\n",
              "      <td>1.791827</td>\n",
              "      <td>2.608913</td>\n",
              "      <td>2.717612</td>\n",
              "      <td>0.303539</td>\n",
              "      <td>1.734059</td>\n",
              "      <td>4.762569</td>\n",
              "      <td>2.444813</td>\n",
              "      <td>1.841285</td>\n",
              "      <td>2.129565</td>\n",
              "      <td>0.282168</td>\n",
              "    </tr>\n",
              "    <tr>\n",
              "      <th>min</th>\n",
              "      <td>1.000000</td>\n",
              "      <td>18.000000</td>\n",
              "      <td>18.000000</td>\n",
              "      <td>0.000000</td>\n",
              "      <td>0.000000</td>\n",
              "      <td>1.000000</td>\n",
              "      <td>0.000000</td>\n",
              "      <td>0.000000</td>\n",
              "      <td>0.000000</td>\n",
              "      <td>0.000000</td>\n",
              "      <td>...</td>\n",
              "      <td>1.000000</td>\n",
              "      <td>1.000000</td>\n",
              "      <td>0.000000</td>\n",
              "      <td>-0.830000</td>\n",
              "      <td>1.000000</td>\n",
              "      <td>0.000000</td>\n",
              "      <td>0.000000</td>\n",
              "      <td>0.000000</td>\n",
              "      <td>0.000000</td>\n",
              "      <td>0.000000</td>\n",
              "    </tr>\n",
              "    <tr>\n",
              "      <th>25%</th>\n",
              "      <td>7.000000</td>\n",
              "      <td>24.000000</td>\n",
              "      <td>24.000000</td>\n",
              "      <td>1.000000</td>\n",
              "      <td>1.000000</td>\n",
              "      <td>1.000000</td>\n",
              "      <td>15.000000</td>\n",
              "      <td>15.000000</td>\n",
              "      <td>17.390000</td>\n",
              "      <td>15.000000</td>\n",
              "      <td>...</td>\n",
              "      <td>7.000000</td>\n",
              "      <td>4.000000</td>\n",
              "      <td>2.000000</td>\n",
              "      <td>-0.020000</td>\n",
              "      <td>5.000000</td>\n",
              "      <td>2.000000</td>\n",
              "      <td>2.000000</td>\n",
              "      <td>5.000000</td>\n",
              "      <td>4.000000</td>\n",
              "      <td>0.000000</td>\n",
              "    </tr>\n",
              "    <tr>\n",
              "      <th>50%</th>\n",
              "      <td>11.000000</td>\n",
              "      <td>26.000000</td>\n",
              "      <td>26.000000</td>\n",
              "      <td>3.000000</td>\n",
              "      <td>3.000000</td>\n",
              "      <td>3.000000</td>\n",
              "      <td>20.000000</td>\n",
              "      <td>18.370000</td>\n",
              "      <td>20.000000</td>\n",
              "      <td>18.000000</td>\n",
              "      <td>...</td>\n",
              "      <td>8.000000</td>\n",
              "      <td>6.000000</td>\n",
              "      <td>4.000000</td>\n",
              "      <td>0.210000</td>\n",
              "      <td>6.000000</td>\n",
              "      <td>4.000000</td>\n",
              "      <td>3.000000</td>\n",
              "      <td>6.000000</td>\n",
              "      <td>5.000000</td>\n",
              "      <td>0.000000</td>\n",
              "    </tr>\n",
              "    <tr>\n",
              "      <th>75%</th>\n",
              "      <td>15.000000</td>\n",
              "      <td>28.000000</td>\n",
              "      <td>28.000000</td>\n",
              "      <td>5.000000</td>\n",
              "      <td>6.000000</td>\n",
              "      <td>6.000000</td>\n",
              "      <td>25.000000</td>\n",
              "      <td>20.000000</td>\n",
              "      <td>23.810000</td>\n",
              "      <td>20.000000</td>\n",
              "      <td>...</td>\n",
              "      <td>9.000000</td>\n",
              "      <td>8.000000</td>\n",
              "      <td>7.000000</td>\n",
              "      <td>0.430000</td>\n",
              "      <td>7.000000</td>\n",
              "      <td>8.000000</td>\n",
              "      <td>4.000000</td>\n",
              "      <td>7.000000</td>\n",
              "      <td>7.000000</td>\n",
              "      <td>0.000000</td>\n",
              "    </tr>\n",
              "    <tr>\n",
              "      <th>max</th>\n",
              "      <td>21.000000</td>\n",
              "      <td>55.000000</td>\n",
              "      <td>55.000000</td>\n",
              "      <td>37.000000</td>\n",
              "      <td>10.000000</td>\n",
              "      <td>10.000000</td>\n",
              "      <td>100.000000</td>\n",
              "      <td>60.000000</td>\n",
              "      <td>50.000000</td>\n",
              "      <td>50.000000</td>\n",
              "      <td>...</td>\n",
              "      <td>10.000000</td>\n",
              "      <td>10.000000</td>\n",
              "      <td>10.000000</td>\n",
              "      <td>0.910000</td>\n",
              "      <td>10.000000</td>\n",
              "      <td>20.000000</td>\n",
              "      <td>18.000000</td>\n",
              "      <td>10.000000</td>\n",
              "      <td>10.000000</td>\n",
              "      <td>8.000000</td>\n",
              "    </tr>\n",
              "  </tbody>\n",
              "</table>\n",
              "<p>8 rows × 59 columns</p>\n",
              "</div>\n",
              "      <button class=\"colab-df-convert\" onclick=\"convertToInteractive('df-0378be22-49ab-4eab-9b4a-093e7806a6f3')\"\n",
              "              title=\"Convert this dataframe to an interactive table.\"\n",
              "              style=\"display:none;\">\n",
              "\n",
              "  <svg xmlns=\"http://www.w3.org/2000/svg\" height=\"24px\"viewBox=\"0 0 24 24\"\n",
              "       width=\"24px\">\n",
              "    <path d=\"M0 0h24v24H0V0z\" fill=\"none\"/>\n",
              "    <path d=\"M18.56 5.44l.94 2.06.94-2.06 2.06-.94-2.06-.94-.94-2.06-.94 2.06-2.06.94zm-11 1L8.5 8.5l.94-2.06 2.06-.94-2.06-.94L8.5 2.5l-.94 2.06-2.06.94zm10 10l.94 2.06.94-2.06 2.06-.94-2.06-.94-.94-2.06-.94 2.06-2.06.94z\"/><path d=\"M17.41 7.96l-1.37-1.37c-.4-.4-.92-.59-1.43-.59-.52 0-1.04.2-1.43.59L10.3 9.45l-7.72 7.72c-.78.78-.78 2.05 0 2.83L4 21.41c.39.39.9.59 1.41.59.51 0 1.02-.2 1.41-.59l7.78-7.78 2.81-2.81c.8-.78.8-2.07 0-2.86zM5.41 20L4 18.59l7.72-7.72 1.47 1.35L5.41 20z\"/>\n",
              "  </svg>\n",
              "      </button>\n",
              "\n",
              "\n",
              "\n",
              "    <div id=\"df-d746bb1c-150f-4395-9930-6bf0b3042f57\">\n",
              "      <button class=\"colab-df-quickchart\" onclick=\"quickchart('df-d746bb1c-150f-4395-9930-6bf0b3042f57')\"\n",
              "              title=\"Suggest charts.\"\n",
              "              style=\"display:none;\">\n",
              "\n",
              "<svg xmlns=\"http://www.w3.org/2000/svg\" height=\"24px\"viewBox=\"0 0 24 24\"\n",
              "     width=\"24px\">\n",
              "    <g>\n",
              "        <path d=\"M19 3H5c-1.1 0-2 .9-2 2v14c0 1.1.9 2 2 2h14c1.1 0 2-.9 2-2V5c0-1.1-.9-2-2-2zM9 17H7v-7h2v7zm4 0h-2V7h2v10zm4 0h-2v-4h2v4z\"/>\n",
              "    </g>\n",
              "</svg>\n",
              "      </button>\n",
              "    </div>\n",
              "\n",
              "<style>\n",
              "  .colab-df-quickchart {\n",
              "    background-color: #E8F0FE;\n",
              "    border: none;\n",
              "    border-radius: 50%;\n",
              "    cursor: pointer;\n",
              "    display: none;\n",
              "    fill: #1967D2;\n",
              "    height: 32px;\n",
              "    padding: 0 0 0 0;\n",
              "    width: 32px;\n",
              "  }\n",
              "\n",
              "  .colab-df-quickchart:hover {\n",
              "    background-color: #E2EBFA;\n",
              "    box-shadow: 0px 1px 2px rgba(60, 64, 67, 0.3), 0px 1px 3px 1px rgba(60, 64, 67, 0.15);\n",
              "    fill: #174EA6;\n",
              "  }\n",
              "\n",
              "  [theme=dark] .colab-df-quickchart {\n",
              "    background-color: #3B4455;\n",
              "    fill: #D2E3FC;\n",
              "  }\n",
              "\n",
              "  [theme=dark] .colab-df-quickchart:hover {\n",
              "    background-color: #434B5C;\n",
              "    box-shadow: 0px 1px 3px 1px rgba(0, 0, 0, 0.15);\n",
              "    filter: drop-shadow(0px 1px 2px rgba(0, 0, 0, 0.3));\n",
              "    fill: #FFFFFF;\n",
              "  }\n",
              "</style>\n",
              "\n",
              "    <script>\n",
              "      async function quickchart(key) {\n",
              "        const containerElement = document.querySelector('#' + key);\n",
              "        const charts = await google.colab.kernel.invokeFunction(\n",
              "            'suggestCharts', [key], {});\n",
              "      }\n",
              "    </script>\n",
              "\n",
              "      <script>\n",
              "\n",
              "function displayQuickchartButton(domScope) {\n",
              "  let quickchartButtonEl =\n",
              "    domScope.querySelector('#df-d746bb1c-150f-4395-9930-6bf0b3042f57 button.colab-df-quickchart');\n",
              "  quickchartButtonEl.style.display =\n",
              "    google.colab.kernel.accessAllowed ? 'block' : 'none';\n",
              "}\n",
              "\n",
              "        displayQuickchartButton(document);\n",
              "      </script>\n",
              "      <style>\n",
              "    .colab-df-container {\n",
              "      display:flex;\n",
              "      flex-wrap:wrap;\n",
              "      gap: 12px;\n",
              "    }\n",
              "\n",
              "    .colab-df-convert {\n",
              "      background-color: #E8F0FE;\n",
              "      border: none;\n",
              "      border-radius: 50%;\n",
              "      cursor: pointer;\n",
              "      display: none;\n",
              "      fill: #1967D2;\n",
              "      height: 32px;\n",
              "      padding: 0 0 0 0;\n",
              "      width: 32px;\n",
              "    }\n",
              "\n",
              "    .colab-df-convert:hover {\n",
              "      background-color: #E2EBFA;\n",
              "      box-shadow: 0px 1px 2px rgba(60, 64, 67, 0.3), 0px 1px 3px 1px rgba(60, 64, 67, 0.15);\n",
              "      fill: #174EA6;\n",
              "    }\n",
              "\n",
              "    [theme=dark] .colab-df-convert {\n",
              "      background-color: #3B4455;\n",
              "      fill: #D2E3FC;\n",
              "    }\n",
              "\n",
              "    [theme=dark] .colab-df-convert:hover {\n",
              "      background-color: #434B5C;\n",
              "      box-shadow: 0px 1px 3px 1px rgba(0, 0, 0, 0.15);\n",
              "      filter: drop-shadow(0px 1px 2px rgba(0, 0, 0, 0.3));\n",
              "      fill: #FFFFFF;\n",
              "    }\n",
              "  </style>\n",
              "\n",
              "      <script>\n",
              "        const buttonEl =\n",
              "          document.querySelector('#df-0378be22-49ab-4eab-9b4a-093e7806a6f3 button.colab-df-convert');\n",
              "        buttonEl.style.display =\n",
              "          google.colab.kernel.accessAllowed ? 'block' : 'none';\n",
              "\n",
              "        async function convertToInteractive(key) {\n",
              "          const element = document.querySelector('#df-0378be22-49ab-4eab-9b4a-093e7806a6f3');\n",
              "          const dataTable =\n",
              "            await google.colab.kernel.invokeFunction('convertToInteractive',\n",
              "                                                     [key], {});\n",
              "          if (!dataTable) return;\n",
              "\n",
              "          const docLinkHtml = 'Like what you see? Visit the ' +\n",
              "            '<a target=\"_blank\" href=https://colab.research.google.com/notebooks/data_table.ipynb>data table notebook</a>'\n",
              "            + ' to learn more about interactive tables.';\n",
              "          element.innerHTML = '';\n",
              "          dataTable['output_type'] = 'display_data';\n",
              "          await google.colab.output.renderOutput(dataTable, element);\n",
              "          const docLink = document.createElement('div');\n",
              "          docLink.innerHTML = docLinkHtml;\n",
              "          element.appendChild(docLink);\n",
              "        }\n",
              "      </script>\n",
              "    </div>\n",
              "  </div>\n"
            ]
          },
          "metadata": {},
          "execution_count": 4
        }
      ]
    },
    {
      "cell_type": "markdown",
      "source": [
        "Columnas del dataset:"
      ],
      "metadata": {
        "id": "6JlM6uh1GoC7"
      }
    },
    {
      "cell_type": "code",
      "source": [
        "len(dataset_sample.columns)\n",
        "dataset_sample.ambitous_o"
      ],
      "metadata": {
        "colab": {
          "base_uri": "https://localhost:8080/"
        },
        "id": "tScGj6zt9eRW",
        "outputId": "def0b8e2-9343-44a6-bab6-b1321b376861"
      },
      "execution_count": null,
      "outputs": [
        {
          "output_type": "execute_result",
          "data": {
            "text/plain": [
              "0        8.0\n",
              "1        7.0\n",
              "2       10.0\n",
              "3        9.0\n",
              "4        9.0\n",
              "        ... \n",
              "8373     6.0\n",
              "8374     7.0\n",
              "8375     2.0\n",
              "8376     3.0\n",
              "8377     7.0\n",
              "Name: ambitous_o, Length: 8378, dtype: float64"
            ]
          },
          "metadata": {},
          "execution_count": 5
        }
      ]
    },
    {
      "cell_type": "code",
      "source": [
        "dataset_sample.describe()"
      ],
      "metadata": {
        "colab": {
          "base_uri": "https://localhost:8080/",
          "height": 390
        },
        "id": "Y5IPwNUevwow",
        "outputId": "bf7bfe6b-837e-4f09-8740-f95a166c66a9"
      },
      "execution_count": null,
      "outputs": [
        {
          "output_type": "execute_result",
          "data": {
            "text/plain": [
              "              wave          age        age_o        d_age  \\\n",
              "count  8378.000000  8283.000000  8274.000000  8378.000000   \n",
              "mean     11.350919    26.358928    26.364999     4.185605   \n",
              "std       5.995903     3.566763     3.563648     4.596171   \n",
              "min       1.000000    18.000000    18.000000     0.000000   \n",
              "25%       7.000000    24.000000    24.000000     1.000000   \n",
              "50%      11.000000    26.000000    26.000000     3.000000   \n",
              "75%      15.000000    28.000000    28.000000     5.000000   \n",
              "max      21.000000    55.000000    55.000000    37.000000   \n",
              "\n",
              "       importance_same_race  importance_same_religion  pref_o_attractive  \\\n",
              "count           8299.000000               8299.000000        8289.000000   \n",
              "mean               3.784793                  3.651645          22.495347   \n",
              "std                2.845708                  2.805237          12.569802   \n",
              "min                0.000000                  1.000000           0.000000   \n",
              "25%                1.000000                  1.000000          15.000000   \n",
              "50%                3.000000                  3.000000          20.000000   \n",
              "75%                6.000000                  6.000000          25.000000   \n",
              "max               10.000000                 10.000000         100.000000   \n",
              "\n",
              "       pref_o_sincere  pref_o_intelligence  pref_o_funny  ...        music  \\\n",
              "count     8289.000000          8289.000000   8280.000000  ...  8299.000000   \n",
              "mean        17.396867            20.270759     17.459714  ...     7.851066   \n",
              "std          7.044003             6.782895      6.085526  ...     1.791827   \n",
              "min          0.000000             0.000000      0.000000  ...     1.000000   \n",
              "25%         15.000000            17.390000     15.000000  ...     7.000000   \n",
              "50%         18.370000            20.000000     18.000000  ...     8.000000   \n",
              "75%         20.000000            23.810000     20.000000  ...     9.000000   \n",
              "max         60.000000            50.000000     50.000000  ...    10.000000   \n",
              "\n",
              "          shopping         yoga  interests_correlate  \\\n",
              "count  8299.000000  8299.000000          8220.000000   \n",
              "mean      5.631281     4.339197             0.196010   \n",
              "std       2.608913     2.717612             0.303539   \n",
              "min       1.000000     0.000000            -0.830000   \n",
              "25%       4.000000     2.000000            -0.020000   \n",
              "50%       6.000000     4.000000             0.210000   \n",
              "75%       8.000000     7.000000             0.430000   \n",
              "max      10.000000    10.000000             0.910000   \n",
              "\n",
              "       expected_happy_with_sd_people  expected_num_interested_in_me  \\\n",
              "count                    8277.000000                    1800.000000   \n",
              "mean                        5.534131                       5.570556   \n",
              "std                         1.734059                       4.762569   \n",
              "min                         1.000000                       0.000000   \n",
              "25%                         5.000000                       2.000000   \n",
              "50%                         6.000000                       4.000000   \n",
              "75%                         7.000000                       8.000000   \n",
              "max                        10.000000                      20.000000   \n",
              "\n",
              "       expected_num_matches         like  guess_prob_liked          met  \n",
              "count           7205.000000  8138.000000       8069.000000  8003.000000  \n",
              "mean               3.207814     6.134087          5.207523     0.049856  \n",
              "std                2.444813     1.841285          2.129565     0.282168  \n",
              "min                0.000000     0.000000          0.000000     0.000000  \n",
              "25%                2.000000     5.000000          4.000000     0.000000  \n",
              "50%                3.000000     6.000000          5.000000     0.000000  \n",
              "75%                4.000000     7.000000          7.000000     0.000000  \n",
              "max               18.000000    10.000000         10.000000     8.000000  \n",
              "\n",
              "[8 rows x 59 columns]"
            ],
            "text/html": [
              "\n",
              "\n",
              "  <div id=\"df-b831a9ed-938b-4518-ab56-027e0c660b28\">\n",
              "    <div class=\"colab-df-container\">\n",
              "      <div>\n",
              "<style scoped>\n",
              "    .dataframe tbody tr th:only-of-type {\n",
              "        vertical-align: middle;\n",
              "    }\n",
              "\n",
              "    .dataframe tbody tr th {\n",
              "        vertical-align: top;\n",
              "    }\n",
              "\n",
              "    .dataframe thead th {\n",
              "        text-align: right;\n",
              "    }\n",
              "</style>\n",
              "<table border=\"1\" class=\"dataframe\">\n",
              "  <thead>\n",
              "    <tr style=\"text-align: right;\">\n",
              "      <th></th>\n",
              "      <th>wave</th>\n",
              "      <th>age</th>\n",
              "      <th>age_o</th>\n",
              "      <th>d_age</th>\n",
              "      <th>importance_same_race</th>\n",
              "      <th>importance_same_religion</th>\n",
              "      <th>pref_o_attractive</th>\n",
              "      <th>pref_o_sincere</th>\n",
              "      <th>pref_o_intelligence</th>\n",
              "      <th>pref_o_funny</th>\n",
              "      <th>...</th>\n",
              "      <th>music</th>\n",
              "      <th>shopping</th>\n",
              "      <th>yoga</th>\n",
              "      <th>interests_correlate</th>\n",
              "      <th>expected_happy_with_sd_people</th>\n",
              "      <th>expected_num_interested_in_me</th>\n",
              "      <th>expected_num_matches</th>\n",
              "      <th>like</th>\n",
              "      <th>guess_prob_liked</th>\n",
              "      <th>met</th>\n",
              "    </tr>\n",
              "  </thead>\n",
              "  <tbody>\n",
              "    <tr>\n",
              "      <th>count</th>\n",
              "      <td>8378.000000</td>\n",
              "      <td>8283.000000</td>\n",
              "      <td>8274.000000</td>\n",
              "      <td>8378.000000</td>\n",
              "      <td>8299.000000</td>\n",
              "      <td>8299.000000</td>\n",
              "      <td>8289.000000</td>\n",
              "      <td>8289.000000</td>\n",
              "      <td>8289.000000</td>\n",
              "      <td>8280.000000</td>\n",
              "      <td>...</td>\n",
              "      <td>8299.000000</td>\n",
              "      <td>8299.000000</td>\n",
              "      <td>8299.000000</td>\n",
              "      <td>8220.000000</td>\n",
              "      <td>8277.000000</td>\n",
              "      <td>1800.000000</td>\n",
              "      <td>7205.000000</td>\n",
              "      <td>8138.000000</td>\n",
              "      <td>8069.000000</td>\n",
              "      <td>8003.000000</td>\n",
              "    </tr>\n",
              "    <tr>\n",
              "      <th>mean</th>\n",
              "      <td>11.350919</td>\n",
              "      <td>26.358928</td>\n",
              "      <td>26.364999</td>\n",
              "      <td>4.185605</td>\n",
              "      <td>3.784793</td>\n",
              "      <td>3.651645</td>\n",
              "      <td>22.495347</td>\n",
              "      <td>17.396867</td>\n",
              "      <td>20.270759</td>\n",
              "      <td>17.459714</td>\n",
              "      <td>...</td>\n",
              "      <td>7.851066</td>\n",
              "      <td>5.631281</td>\n",
              "      <td>4.339197</td>\n",
              "      <td>0.196010</td>\n",
              "      <td>5.534131</td>\n",
              "      <td>5.570556</td>\n",
              "      <td>3.207814</td>\n",
              "      <td>6.134087</td>\n",
              "      <td>5.207523</td>\n",
              "      <td>0.049856</td>\n",
              "    </tr>\n",
              "    <tr>\n",
              "      <th>std</th>\n",
              "      <td>5.995903</td>\n",
              "      <td>3.566763</td>\n",
              "      <td>3.563648</td>\n",
              "      <td>4.596171</td>\n",
              "      <td>2.845708</td>\n",
              "      <td>2.805237</td>\n",
              "      <td>12.569802</td>\n",
              "      <td>7.044003</td>\n",
              "      <td>6.782895</td>\n",
              "      <td>6.085526</td>\n",
              "      <td>...</td>\n",
              "      <td>1.791827</td>\n",
              "      <td>2.608913</td>\n",
              "      <td>2.717612</td>\n",
              "      <td>0.303539</td>\n",
              "      <td>1.734059</td>\n",
              "      <td>4.762569</td>\n",
              "      <td>2.444813</td>\n",
              "      <td>1.841285</td>\n",
              "      <td>2.129565</td>\n",
              "      <td>0.282168</td>\n",
              "    </tr>\n",
              "    <tr>\n",
              "      <th>min</th>\n",
              "      <td>1.000000</td>\n",
              "      <td>18.000000</td>\n",
              "      <td>18.000000</td>\n",
              "      <td>0.000000</td>\n",
              "      <td>0.000000</td>\n",
              "      <td>1.000000</td>\n",
              "      <td>0.000000</td>\n",
              "      <td>0.000000</td>\n",
              "      <td>0.000000</td>\n",
              "      <td>0.000000</td>\n",
              "      <td>...</td>\n",
              "      <td>1.000000</td>\n",
              "      <td>1.000000</td>\n",
              "      <td>0.000000</td>\n",
              "      <td>-0.830000</td>\n",
              "      <td>1.000000</td>\n",
              "      <td>0.000000</td>\n",
              "      <td>0.000000</td>\n",
              "      <td>0.000000</td>\n",
              "      <td>0.000000</td>\n",
              "      <td>0.000000</td>\n",
              "    </tr>\n",
              "    <tr>\n",
              "      <th>25%</th>\n",
              "      <td>7.000000</td>\n",
              "      <td>24.000000</td>\n",
              "      <td>24.000000</td>\n",
              "      <td>1.000000</td>\n",
              "      <td>1.000000</td>\n",
              "      <td>1.000000</td>\n",
              "      <td>15.000000</td>\n",
              "      <td>15.000000</td>\n",
              "      <td>17.390000</td>\n",
              "      <td>15.000000</td>\n",
              "      <td>...</td>\n",
              "      <td>7.000000</td>\n",
              "      <td>4.000000</td>\n",
              "      <td>2.000000</td>\n",
              "      <td>-0.020000</td>\n",
              "      <td>5.000000</td>\n",
              "      <td>2.000000</td>\n",
              "      <td>2.000000</td>\n",
              "      <td>5.000000</td>\n",
              "      <td>4.000000</td>\n",
              "      <td>0.000000</td>\n",
              "    </tr>\n",
              "    <tr>\n",
              "      <th>50%</th>\n",
              "      <td>11.000000</td>\n",
              "      <td>26.000000</td>\n",
              "      <td>26.000000</td>\n",
              "      <td>3.000000</td>\n",
              "      <td>3.000000</td>\n",
              "      <td>3.000000</td>\n",
              "      <td>20.000000</td>\n",
              "      <td>18.370000</td>\n",
              "      <td>20.000000</td>\n",
              "      <td>18.000000</td>\n",
              "      <td>...</td>\n",
              "      <td>8.000000</td>\n",
              "      <td>6.000000</td>\n",
              "      <td>4.000000</td>\n",
              "      <td>0.210000</td>\n",
              "      <td>6.000000</td>\n",
              "      <td>4.000000</td>\n",
              "      <td>3.000000</td>\n",
              "      <td>6.000000</td>\n",
              "      <td>5.000000</td>\n",
              "      <td>0.000000</td>\n",
              "    </tr>\n",
              "    <tr>\n",
              "      <th>75%</th>\n",
              "      <td>15.000000</td>\n",
              "      <td>28.000000</td>\n",
              "      <td>28.000000</td>\n",
              "      <td>5.000000</td>\n",
              "      <td>6.000000</td>\n",
              "      <td>6.000000</td>\n",
              "      <td>25.000000</td>\n",
              "      <td>20.000000</td>\n",
              "      <td>23.810000</td>\n",
              "      <td>20.000000</td>\n",
              "      <td>...</td>\n",
              "      <td>9.000000</td>\n",
              "      <td>8.000000</td>\n",
              "      <td>7.000000</td>\n",
              "      <td>0.430000</td>\n",
              "      <td>7.000000</td>\n",
              "      <td>8.000000</td>\n",
              "      <td>4.000000</td>\n",
              "      <td>7.000000</td>\n",
              "      <td>7.000000</td>\n",
              "      <td>0.000000</td>\n",
              "    </tr>\n",
              "    <tr>\n",
              "      <th>max</th>\n",
              "      <td>21.000000</td>\n",
              "      <td>55.000000</td>\n",
              "      <td>55.000000</td>\n",
              "      <td>37.000000</td>\n",
              "      <td>10.000000</td>\n",
              "      <td>10.000000</td>\n",
              "      <td>100.000000</td>\n",
              "      <td>60.000000</td>\n",
              "      <td>50.000000</td>\n",
              "      <td>50.000000</td>\n",
              "      <td>...</td>\n",
              "      <td>10.000000</td>\n",
              "      <td>10.000000</td>\n",
              "      <td>10.000000</td>\n",
              "      <td>0.910000</td>\n",
              "      <td>10.000000</td>\n",
              "      <td>20.000000</td>\n",
              "      <td>18.000000</td>\n",
              "      <td>10.000000</td>\n",
              "      <td>10.000000</td>\n",
              "      <td>8.000000</td>\n",
              "    </tr>\n",
              "  </tbody>\n",
              "</table>\n",
              "<p>8 rows × 59 columns</p>\n",
              "</div>\n",
              "      <button class=\"colab-df-convert\" onclick=\"convertToInteractive('df-b831a9ed-938b-4518-ab56-027e0c660b28')\"\n",
              "              title=\"Convert this dataframe to an interactive table.\"\n",
              "              style=\"display:none;\">\n",
              "\n",
              "  <svg xmlns=\"http://www.w3.org/2000/svg\" height=\"24px\"viewBox=\"0 0 24 24\"\n",
              "       width=\"24px\">\n",
              "    <path d=\"M0 0h24v24H0V0z\" fill=\"none\"/>\n",
              "    <path d=\"M18.56 5.44l.94 2.06.94-2.06 2.06-.94-2.06-.94-.94-2.06-.94 2.06-2.06.94zm-11 1L8.5 8.5l.94-2.06 2.06-.94-2.06-.94L8.5 2.5l-.94 2.06-2.06.94zm10 10l.94 2.06.94-2.06 2.06-.94-2.06-.94-.94-2.06-.94 2.06-2.06.94z\"/><path d=\"M17.41 7.96l-1.37-1.37c-.4-.4-.92-.59-1.43-.59-.52 0-1.04.2-1.43.59L10.3 9.45l-7.72 7.72c-.78.78-.78 2.05 0 2.83L4 21.41c.39.39.9.59 1.41.59.51 0 1.02-.2 1.41-.59l7.78-7.78 2.81-2.81c.8-.78.8-2.07 0-2.86zM5.41 20L4 18.59l7.72-7.72 1.47 1.35L5.41 20z\"/>\n",
              "  </svg>\n",
              "      </button>\n",
              "\n",
              "\n",
              "\n",
              "    <div id=\"df-58db32db-88ff-4d12-bab5-29a8182487d3\">\n",
              "      <button class=\"colab-df-quickchart\" onclick=\"quickchart('df-58db32db-88ff-4d12-bab5-29a8182487d3')\"\n",
              "              title=\"Suggest charts.\"\n",
              "              style=\"display:none;\">\n",
              "\n",
              "<svg xmlns=\"http://www.w3.org/2000/svg\" height=\"24px\"viewBox=\"0 0 24 24\"\n",
              "     width=\"24px\">\n",
              "    <g>\n",
              "        <path d=\"M19 3H5c-1.1 0-2 .9-2 2v14c0 1.1.9 2 2 2h14c1.1 0 2-.9 2-2V5c0-1.1-.9-2-2-2zM9 17H7v-7h2v7zm4 0h-2V7h2v10zm4 0h-2v-4h2v4z\"/>\n",
              "    </g>\n",
              "</svg>\n",
              "      </button>\n",
              "    </div>\n",
              "\n",
              "<style>\n",
              "  .colab-df-quickchart {\n",
              "    background-color: #E8F0FE;\n",
              "    border: none;\n",
              "    border-radius: 50%;\n",
              "    cursor: pointer;\n",
              "    display: none;\n",
              "    fill: #1967D2;\n",
              "    height: 32px;\n",
              "    padding: 0 0 0 0;\n",
              "    width: 32px;\n",
              "  }\n",
              "\n",
              "  .colab-df-quickchart:hover {\n",
              "    background-color: #E2EBFA;\n",
              "    box-shadow: 0px 1px 2px rgba(60, 64, 67, 0.3), 0px 1px 3px 1px rgba(60, 64, 67, 0.15);\n",
              "    fill: #174EA6;\n",
              "  }\n",
              "\n",
              "  [theme=dark] .colab-df-quickchart {\n",
              "    background-color: #3B4455;\n",
              "    fill: #D2E3FC;\n",
              "  }\n",
              "\n",
              "  [theme=dark] .colab-df-quickchart:hover {\n",
              "    background-color: #434B5C;\n",
              "    box-shadow: 0px 1px 3px 1px rgba(0, 0, 0, 0.15);\n",
              "    filter: drop-shadow(0px 1px 2px rgba(0, 0, 0, 0.3));\n",
              "    fill: #FFFFFF;\n",
              "  }\n",
              "</style>\n",
              "\n",
              "    <script>\n",
              "      async function quickchart(key) {\n",
              "        const containerElement = document.querySelector('#' + key);\n",
              "        const charts = await google.colab.kernel.invokeFunction(\n",
              "            'suggestCharts', [key], {});\n",
              "      }\n",
              "    </script>\n",
              "\n",
              "      <script>\n",
              "\n",
              "function displayQuickchartButton(domScope) {\n",
              "  let quickchartButtonEl =\n",
              "    domScope.querySelector('#df-58db32db-88ff-4d12-bab5-29a8182487d3 button.colab-df-quickchart');\n",
              "  quickchartButtonEl.style.display =\n",
              "    google.colab.kernel.accessAllowed ? 'block' : 'none';\n",
              "}\n",
              "\n",
              "        displayQuickchartButton(document);\n",
              "      </script>\n",
              "      <style>\n",
              "    .colab-df-container {\n",
              "      display:flex;\n",
              "      flex-wrap:wrap;\n",
              "      gap: 12px;\n",
              "    }\n",
              "\n",
              "    .colab-df-convert {\n",
              "      background-color: #E8F0FE;\n",
              "      border: none;\n",
              "      border-radius: 50%;\n",
              "      cursor: pointer;\n",
              "      display: none;\n",
              "      fill: #1967D2;\n",
              "      height: 32px;\n",
              "      padding: 0 0 0 0;\n",
              "      width: 32px;\n",
              "    }\n",
              "\n",
              "    .colab-df-convert:hover {\n",
              "      background-color: #E2EBFA;\n",
              "      box-shadow: 0px 1px 2px rgba(60, 64, 67, 0.3), 0px 1px 3px 1px rgba(60, 64, 67, 0.15);\n",
              "      fill: #174EA6;\n",
              "    }\n",
              "\n",
              "    [theme=dark] .colab-df-convert {\n",
              "      background-color: #3B4455;\n",
              "      fill: #D2E3FC;\n",
              "    }\n",
              "\n",
              "    [theme=dark] .colab-df-convert:hover {\n",
              "      background-color: #434B5C;\n",
              "      box-shadow: 0px 1px 3px 1px rgba(0, 0, 0, 0.15);\n",
              "      filter: drop-shadow(0px 1px 2px rgba(0, 0, 0, 0.3));\n",
              "      fill: #FFFFFF;\n",
              "    }\n",
              "  </style>\n",
              "\n",
              "      <script>\n",
              "        const buttonEl =\n",
              "          document.querySelector('#df-b831a9ed-938b-4518-ab56-027e0c660b28 button.colab-df-convert');\n",
              "        buttonEl.style.display =\n",
              "          google.colab.kernel.accessAllowed ? 'block' : 'none';\n",
              "\n",
              "        async function convertToInteractive(key) {\n",
              "          const element = document.querySelector('#df-b831a9ed-938b-4518-ab56-027e0c660b28');\n",
              "          const dataTable =\n",
              "            await google.colab.kernel.invokeFunction('convertToInteractive',\n",
              "                                                     [key], {});\n",
              "          if (!dataTable) return;\n",
              "\n",
              "          const docLinkHtml = 'Like what you see? Visit the ' +\n",
              "            '<a target=\"_blank\" href=https://colab.research.google.com/notebooks/data_table.ipynb>data table notebook</a>'\n",
              "            + ' to learn more about interactive tables.';\n",
              "          element.innerHTML = '';\n",
              "          dataTable['output_type'] = 'display_data';\n",
              "          await google.colab.output.renderOutput(dataTable, element);\n",
              "          const docLink = document.createElement('div');\n",
              "          docLink.innerHTML = docLinkHtml;\n",
              "          element.appendChild(docLink);\n",
              "        }\n",
              "      </script>\n",
              "    </div>\n",
              "  </div>\n"
            ]
          },
          "metadata": {},
          "execution_count": 6
        }
      ]
    },
    {
      "cell_type": "markdown",
      "source": [
        "## Limpieza de Datos"
      ],
      "metadata": {
        "id": "dpI9NFMUGJz1"
      }
    },
    {
      "cell_type": "markdown",
      "source": [
        "\n",
        "Antes de empezar con la exploración  vamos a  efectuar una limpieza  general de los datos de manera que sea  más cómodo trabajar  con estos. Para esto se harán  los siguientes cambios:\n",
        "\n",
        "-Eliminamos  todas las columnas  que son del tipo \"d_atributo\" pues agrupan en intervalos otras variables del dataset y esta información se puede generar por cuenta propia, cuando sea necesario.\n",
        "\n",
        "-Todos los  datos del tipo  “b0” (same race,decision ,decision_o  y match)  serán reemplazados por el  entero  correspondiente.\n",
        "\n",
        "-Los atributos del  tipo  “b atributo ” son reemplazados  por “atributo”.\n",
        "\n",
        "-Se le da un nombre más intuitivo a las etnias de los participantes.\n",
        "\n"
      ],
      "metadata": {
        "id": "6-lQKtO7IO7g"
      }
    },
    {
      "cell_type": "code",
      "source": [
        "#Se botan los atributos que se pueden deducir de otros ya incorporados en la tabla\n",
        "\n",
        "dataset_sample = dataset_sample.drop(['has_null', 'd_importance_same_race', 'd_importance_same_religion', 'd_d_age',\n",
        "                               'd_pref_o_attractive', 'd_pref_o_sincere', 'd_pref_o_intelligence',\n",
        "                               'd_pref_o_funny', 'd_pref_o_ambitious', 'd_pref_o_shared_interests',\n",
        "                               'd_attractive_o', 'd_sinsere_o', 'd_intelligence_o', 'd_funny_o', 'd_ambitous_o', 'd_shared_interests_o',\n",
        "                               'd_attractive_important', 'd_sincere_important', 'd_intellicence_important',\n",
        "                               'd_funny_important', 'd_ambtition_important', 'd_shared_interests_important', 'd_attractive', 'd_sincere',\n",
        "                               'd_intelligence', 'd_funny', 'd_ambition', 'd_attractive_partner', 'd_sincere_partner',\n",
        "                               'd_intelligence_partner', 'd_funny_partner', 'd_ambition_partner', 'd_shared_interests_partner', 'd_sports',\n",
        "                               'd_tvsports', 'd_exercise', 'd_dining', 'd_museums', 'd_art', 'd_hiking', 'd_gaming', 'd_clubbing', 'd_reading',\n",
        "                               'd_tv', 'd_theater', 'd_movies', 'd_concerts', 'd_music', 'd_shopping', 'd_yoga', 'd_interests_correlate',\n",
        "                               'd_expected_happy_with_sd_people',\n",
        "                               'd_expected_num_interested_in_me', 'd_expected_num_matches', 'd_like', 'd_guess_prob_liked'] , axis=1)\n",
        "\n",
        "#cambiar booleanos por numéricos\n",
        "dataset_sample['samerace'] = dataset_sample['samerace'].replace({\"b'0'\": \"0\", \"b'1'\": \"1\"})\n",
        "dataset_sample['decision'] = dataset_sample['decision'].replace({\"b'0'\": \"0\", \"b'1'\": \"1\"})\n",
        "dataset_sample['decision_o'] = dataset_sample['decision_o'].replace({\"b'0'\": \"0\", \"b'1'\": \"1\"})\n",
        "dataset_sample['match'] = dataset_sample['match'].replace({\"b'0'\": \"0\", \"b'1'\": \"1\"})\n",
        "\n",
        "dataset_sample['decision_o'] = dataset_sample['decision_o'].astype(int)\n",
        "dataset_sample['samerace'] = dataset_sample['samerace'].astype(int)\n",
        "dataset_sample['decision'] = dataset_sample['decision'].astype(int)\n",
        "dataset_sample['match'] = dataset_sample['match'].astype(int)\n",
        "\n",
        "#booleanos por literales\n",
        "dataset_sample['gender'] = dataset_sample['gender'].replace({\"b'female'\": 'female', \"b'male'\": 'male'})\n",
        "dataset_sample=dataset_sample.rename(columns={'ambitous_o':'ambition_o','sinsere_o':'sincere_o'})\n",
        "\n",
        "#cambiar los distintos tipos de raza por una representativa del grupo\n",
        "race_names={\n",
        "    \"b'Asian/Pacific Islander/Asian-American'\":\"Asian\",\n",
        "    \"b'European/Caucasian-American'\":\"European\",\n",
        "    \"b'Latino/Hispanic American'\":\"Latino\",\n",
        "    \"b'Black/African American'\":\"African\",\n",
        "     \"b'Other'\":\"Other\",\n",
        "     \"b'?'\":'Not mencioned'\n",
        "}\n"
      ],
      "metadata": {
        "id": "jjD73Hg-GHPy"
      },
      "execution_count": null,
      "outputs": []
    },
    {
      "cell_type": "code",
      "source": [
        "#este código se corre solo una vez\n",
        "#porque es para cambiar las razas en el data_sample\n",
        "dataset_sample['race']=dataset_sample['race'].apply(lambda x: race_names[x])\n",
        "dataset_sample['race_o']=dataset_sample['race_o'].apply(lambda x: race_names[x])\n"
      ],
      "metadata": {
        "id": "qQWhaRHLIp0g"
      },
      "execution_count": null,
      "outputs": []
    },
    {
      "cell_type": "code",
      "source": [
        "new_data=pd.read_csv(\"newspeeddating.csv\",encoding='latin-1')\n",
        "dataset_sample=pd.concat([dataset_sample,new_data.loc[:,['iid','pid','field_cd']]],axis=1)\n",
        "dataset_sample.shape"
      ],
      "metadata": {
        "id": "2mTWTyY5T20H",
        "colab": {
          "base_uri": "https://localhost:8080/",
          "height": 358
        },
        "outputId": "95961a6f-fbed-4bf4-a37e-ea8721fbfdd6"
      },
      "execution_count": null,
      "outputs": [
        {
          "output_type": "error",
          "ename": "FileNotFoundError",
          "evalue": "ignored",
          "traceback": [
            "\u001b[0;31m---------------------------------------------------------------------------\u001b[0m",
            "\u001b[0;31mFileNotFoundError\u001b[0m                         Traceback (most recent call last)",
            "\u001b[0;32m<ipython-input-9-f309d477c0fc>\u001b[0m in \u001b[0;36m<cell line: 1>\u001b[0;34m()\u001b[0m\n\u001b[0;32m----> 1\u001b[0;31m \u001b[0mnew_data\u001b[0m\u001b[0;34m=\u001b[0m\u001b[0mpd\u001b[0m\u001b[0;34m.\u001b[0m\u001b[0mread_csv\u001b[0m\u001b[0;34m(\u001b[0m\u001b[0;34m\"newspeeddating.csv\"\u001b[0m\u001b[0;34m,\u001b[0m\u001b[0mencoding\u001b[0m\u001b[0;34m=\u001b[0m\u001b[0;34m'latin-1'\u001b[0m\u001b[0;34m)\u001b[0m\u001b[0;34m\u001b[0m\u001b[0;34m\u001b[0m\u001b[0m\n\u001b[0m\u001b[1;32m      2\u001b[0m \u001b[0mdataset_sample\u001b[0m\u001b[0;34m=\u001b[0m\u001b[0mpd\u001b[0m\u001b[0;34m.\u001b[0m\u001b[0mconcat\u001b[0m\u001b[0;34m(\u001b[0m\u001b[0;34m[\u001b[0m\u001b[0mdataset_sample\u001b[0m\u001b[0;34m,\u001b[0m\u001b[0mnew_data\u001b[0m\u001b[0;34m.\u001b[0m\u001b[0mloc\u001b[0m\u001b[0;34m[\u001b[0m\u001b[0;34m:\u001b[0m\u001b[0;34m,\u001b[0m\u001b[0;34m[\u001b[0m\u001b[0;34m'iid'\u001b[0m\u001b[0;34m,\u001b[0m\u001b[0;34m'pid'\u001b[0m\u001b[0;34m,\u001b[0m\u001b[0;34m'field_cd'\u001b[0m\u001b[0;34m]\u001b[0m\u001b[0;34m]\u001b[0m\u001b[0;34m]\u001b[0m\u001b[0;34m,\u001b[0m\u001b[0maxis\u001b[0m\u001b[0;34m=\u001b[0m\u001b[0;36m1\u001b[0m\u001b[0;34m)\u001b[0m\u001b[0;34m\u001b[0m\u001b[0;34m\u001b[0m\u001b[0m\n\u001b[1;32m      3\u001b[0m \u001b[0mdataset_sample\u001b[0m\u001b[0;34m.\u001b[0m\u001b[0mshape\u001b[0m\u001b[0;34m\u001b[0m\u001b[0;34m\u001b[0m\u001b[0m\n",
            "\u001b[0;32m/usr/local/lib/python3.10/dist-packages/pandas/util/_decorators.py\u001b[0m in \u001b[0;36mwrapper\u001b[0;34m(*args, **kwargs)\u001b[0m\n\u001b[1;32m    209\u001b[0m                 \u001b[0;32melse\u001b[0m\u001b[0;34m:\u001b[0m\u001b[0;34m\u001b[0m\u001b[0;34m\u001b[0m\u001b[0m\n\u001b[1;32m    210\u001b[0m                     \u001b[0mkwargs\u001b[0m\u001b[0;34m[\u001b[0m\u001b[0mnew_arg_name\u001b[0m\u001b[0;34m]\u001b[0m \u001b[0;34m=\u001b[0m \u001b[0mnew_arg_value\u001b[0m\u001b[0;34m\u001b[0m\u001b[0;34m\u001b[0m\u001b[0m\n\u001b[0;32m--> 211\u001b[0;31m             \u001b[0;32mreturn\u001b[0m \u001b[0mfunc\u001b[0m\u001b[0;34m(\u001b[0m\u001b[0;34m*\u001b[0m\u001b[0margs\u001b[0m\u001b[0;34m,\u001b[0m \u001b[0;34m**\u001b[0m\u001b[0mkwargs\u001b[0m\u001b[0;34m)\u001b[0m\u001b[0;34m\u001b[0m\u001b[0;34m\u001b[0m\u001b[0m\n\u001b[0m\u001b[1;32m    212\u001b[0m \u001b[0;34m\u001b[0m\u001b[0m\n\u001b[1;32m    213\u001b[0m         \u001b[0;32mreturn\u001b[0m \u001b[0mcast\u001b[0m\u001b[0;34m(\u001b[0m\u001b[0mF\u001b[0m\u001b[0;34m,\u001b[0m \u001b[0mwrapper\u001b[0m\u001b[0;34m)\u001b[0m\u001b[0;34m\u001b[0m\u001b[0;34m\u001b[0m\u001b[0m\n",
            "\u001b[0;32m/usr/local/lib/python3.10/dist-packages/pandas/util/_decorators.py\u001b[0m in \u001b[0;36mwrapper\u001b[0;34m(*args, **kwargs)\u001b[0m\n\u001b[1;32m    329\u001b[0m                     \u001b[0mstacklevel\u001b[0m\u001b[0;34m=\u001b[0m\u001b[0mfind_stack_level\u001b[0m\u001b[0;34m(\u001b[0m\u001b[0;34m)\u001b[0m\u001b[0;34m,\u001b[0m\u001b[0;34m\u001b[0m\u001b[0;34m\u001b[0m\u001b[0m\n\u001b[1;32m    330\u001b[0m                 )\n\u001b[0;32m--> 331\u001b[0;31m             \u001b[0;32mreturn\u001b[0m \u001b[0mfunc\u001b[0m\u001b[0;34m(\u001b[0m\u001b[0;34m*\u001b[0m\u001b[0margs\u001b[0m\u001b[0;34m,\u001b[0m \u001b[0;34m**\u001b[0m\u001b[0mkwargs\u001b[0m\u001b[0;34m)\u001b[0m\u001b[0;34m\u001b[0m\u001b[0;34m\u001b[0m\u001b[0m\n\u001b[0m\u001b[1;32m    332\u001b[0m \u001b[0;34m\u001b[0m\u001b[0m\n\u001b[1;32m    333\u001b[0m         \u001b[0;31m# error: \"Callable[[VarArg(Any), KwArg(Any)], Any]\" has no\u001b[0m\u001b[0;34m\u001b[0m\u001b[0;34m\u001b[0m\u001b[0m\n",
            "\u001b[0;32m/usr/local/lib/python3.10/dist-packages/pandas/io/parsers/readers.py\u001b[0m in \u001b[0;36mread_csv\u001b[0;34m(filepath_or_buffer, sep, delimiter, header, names, index_col, usecols, squeeze, prefix, mangle_dupe_cols, dtype, engine, converters, true_values, false_values, skipinitialspace, skiprows, skipfooter, nrows, na_values, keep_default_na, na_filter, verbose, skip_blank_lines, parse_dates, infer_datetime_format, keep_date_col, date_parser, dayfirst, cache_dates, iterator, chunksize, compression, thousands, decimal, lineterminator, quotechar, quoting, doublequote, escapechar, comment, encoding, encoding_errors, dialect, error_bad_lines, warn_bad_lines, on_bad_lines, delim_whitespace, low_memory, memory_map, float_precision, storage_options)\u001b[0m\n\u001b[1;32m    948\u001b[0m     \u001b[0mkwds\u001b[0m\u001b[0;34m.\u001b[0m\u001b[0mupdate\u001b[0m\u001b[0;34m(\u001b[0m\u001b[0mkwds_defaults\u001b[0m\u001b[0;34m)\u001b[0m\u001b[0;34m\u001b[0m\u001b[0;34m\u001b[0m\u001b[0m\n\u001b[1;32m    949\u001b[0m \u001b[0;34m\u001b[0m\u001b[0m\n\u001b[0;32m--> 950\u001b[0;31m     \u001b[0;32mreturn\u001b[0m \u001b[0m_read\u001b[0m\u001b[0;34m(\u001b[0m\u001b[0mfilepath_or_buffer\u001b[0m\u001b[0;34m,\u001b[0m \u001b[0mkwds\u001b[0m\u001b[0;34m)\u001b[0m\u001b[0;34m\u001b[0m\u001b[0;34m\u001b[0m\u001b[0m\n\u001b[0m\u001b[1;32m    951\u001b[0m \u001b[0;34m\u001b[0m\u001b[0m\n\u001b[1;32m    952\u001b[0m \u001b[0;34m\u001b[0m\u001b[0m\n",
            "\u001b[0;32m/usr/local/lib/python3.10/dist-packages/pandas/io/parsers/readers.py\u001b[0m in \u001b[0;36m_read\u001b[0;34m(filepath_or_buffer, kwds)\u001b[0m\n\u001b[1;32m    603\u001b[0m \u001b[0;34m\u001b[0m\u001b[0m\n\u001b[1;32m    604\u001b[0m     \u001b[0;31m# Create the parser.\u001b[0m\u001b[0;34m\u001b[0m\u001b[0;34m\u001b[0m\u001b[0m\n\u001b[0;32m--> 605\u001b[0;31m     \u001b[0mparser\u001b[0m \u001b[0;34m=\u001b[0m \u001b[0mTextFileReader\u001b[0m\u001b[0;34m(\u001b[0m\u001b[0mfilepath_or_buffer\u001b[0m\u001b[0;34m,\u001b[0m \u001b[0;34m**\u001b[0m\u001b[0mkwds\u001b[0m\u001b[0;34m)\u001b[0m\u001b[0;34m\u001b[0m\u001b[0;34m\u001b[0m\u001b[0m\n\u001b[0m\u001b[1;32m    606\u001b[0m \u001b[0;34m\u001b[0m\u001b[0m\n\u001b[1;32m    607\u001b[0m     \u001b[0;32mif\u001b[0m \u001b[0mchunksize\u001b[0m \u001b[0;32mor\u001b[0m \u001b[0miterator\u001b[0m\u001b[0;34m:\u001b[0m\u001b[0;34m\u001b[0m\u001b[0;34m\u001b[0m\u001b[0m\n",
            "\u001b[0;32m/usr/local/lib/python3.10/dist-packages/pandas/io/parsers/readers.py\u001b[0m in \u001b[0;36m__init__\u001b[0;34m(self, f, engine, **kwds)\u001b[0m\n\u001b[1;32m   1440\u001b[0m \u001b[0;34m\u001b[0m\u001b[0m\n\u001b[1;32m   1441\u001b[0m         \u001b[0mself\u001b[0m\u001b[0;34m.\u001b[0m\u001b[0mhandles\u001b[0m\u001b[0;34m:\u001b[0m \u001b[0mIOHandles\u001b[0m \u001b[0;34m|\u001b[0m \u001b[0;32mNone\u001b[0m \u001b[0;34m=\u001b[0m \u001b[0;32mNone\u001b[0m\u001b[0;34m\u001b[0m\u001b[0;34m\u001b[0m\u001b[0m\n\u001b[0;32m-> 1442\u001b[0;31m         \u001b[0mself\u001b[0m\u001b[0;34m.\u001b[0m\u001b[0m_engine\u001b[0m \u001b[0;34m=\u001b[0m \u001b[0mself\u001b[0m\u001b[0;34m.\u001b[0m\u001b[0m_make_engine\u001b[0m\u001b[0;34m(\u001b[0m\u001b[0mf\u001b[0m\u001b[0;34m,\u001b[0m \u001b[0mself\u001b[0m\u001b[0;34m.\u001b[0m\u001b[0mengine\u001b[0m\u001b[0;34m)\u001b[0m\u001b[0;34m\u001b[0m\u001b[0;34m\u001b[0m\u001b[0m\n\u001b[0m\u001b[1;32m   1443\u001b[0m \u001b[0;34m\u001b[0m\u001b[0m\n\u001b[1;32m   1444\u001b[0m     \u001b[0;32mdef\u001b[0m \u001b[0mclose\u001b[0m\u001b[0;34m(\u001b[0m\u001b[0mself\u001b[0m\u001b[0;34m)\u001b[0m \u001b[0;34m->\u001b[0m \u001b[0;32mNone\u001b[0m\u001b[0;34m:\u001b[0m\u001b[0;34m\u001b[0m\u001b[0;34m\u001b[0m\u001b[0m\n",
            "\u001b[0;32m/usr/local/lib/python3.10/dist-packages/pandas/io/parsers/readers.py\u001b[0m in \u001b[0;36m_make_engine\u001b[0;34m(self, f, engine)\u001b[0m\n\u001b[1;32m   1733\u001b[0m                 \u001b[0;32mif\u001b[0m \u001b[0;34m\"b\"\u001b[0m \u001b[0;32mnot\u001b[0m \u001b[0;32min\u001b[0m \u001b[0mmode\u001b[0m\u001b[0;34m:\u001b[0m\u001b[0;34m\u001b[0m\u001b[0;34m\u001b[0m\u001b[0m\n\u001b[1;32m   1734\u001b[0m                     \u001b[0mmode\u001b[0m \u001b[0;34m+=\u001b[0m \u001b[0;34m\"b\"\u001b[0m\u001b[0;34m\u001b[0m\u001b[0;34m\u001b[0m\u001b[0m\n\u001b[0;32m-> 1735\u001b[0;31m             self.handles = get_handle(\n\u001b[0m\u001b[1;32m   1736\u001b[0m                 \u001b[0mf\u001b[0m\u001b[0;34m,\u001b[0m\u001b[0;34m\u001b[0m\u001b[0;34m\u001b[0m\u001b[0m\n\u001b[1;32m   1737\u001b[0m                 \u001b[0mmode\u001b[0m\u001b[0;34m,\u001b[0m\u001b[0;34m\u001b[0m\u001b[0;34m\u001b[0m\u001b[0m\n",
            "\u001b[0;32m/usr/local/lib/python3.10/dist-packages/pandas/io/common.py\u001b[0m in \u001b[0;36mget_handle\u001b[0;34m(path_or_buf, mode, encoding, compression, memory_map, is_text, errors, storage_options)\u001b[0m\n\u001b[1;32m    854\u001b[0m         \u001b[0;32mif\u001b[0m \u001b[0mioargs\u001b[0m\u001b[0;34m.\u001b[0m\u001b[0mencoding\u001b[0m \u001b[0;32mand\u001b[0m \u001b[0;34m\"b\"\u001b[0m \u001b[0;32mnot\u001b[0m \u001b[0;32min\u001b[0m \u001b[0mioargs\u001b[0m\u001b[0;34m.\u001b[0m\u001b[0mmode\u001b[0m\u001b[0;34m:\u001b[0m\u001b[0;34m\u001b[0m\u001b[0;34m\u001b[0m\u001b[0m\n\u001b[1;32m    855\u001b[0m             \u001b[0;31m# Encoding\u001b[0m\u001b[0;34m\u001b[0m\u001b[0;34m\u001b[0m\u001b[0m\n\u001b[0;32m--> 856\u001b[0;31m             handle = open(\n\u001b[0m\u001b[1;32m    857\u001b[0m                 \u001b[0mhandle\u001b[0m\u001b[0;34m,\u001b[0m\u001b[0;34m\u001b[0m\u001b[0;34m\u001b[0m\u001b[0m\n\u001b[1;32m    858\u001b[0m                 \u001b[0mioargs\u001b[0m\u001b[0;34m.\u001b[0m\u001b[0mmode\u001b[0m\u001b[0;34m,\u001b[0m\u001b[0;34m\u001b[0m\u001b[0;34m\u001b[0m\u001b[0m\n",
            "\u001b[0;31mFileNotFoundError\u001b[0m: [Errno 2] No such file or directory: 'newspeeddating.csv'"
          ]
        }
      ]
    },
    {
      "cell_type": "markdown",
      "source": [
        "## Variables a Explorar:\n",
        "Ahora que ya estamos satisfechos con el dataset, procederemos a indagar sobre los comportamientos de los distintos atributos.Estos los agruparemos en:\n",
        "\n",
        "- Edades\n",
        "- Cualidades(Inteligencia,Atractivo,etc)\n",
        "- Raza\n",
        "- Relacion Puntuación Match\n"
      ],
      "metadata": {
        "id": "nvYTBcqKqk3j"
      }
    },
    {
      "cell_type": "markdown",
      "source": [
        "##Exploración Edades\n",
        " análisis  general  de las distribuciones  de las edades  de las  personas incluídas en este experimento\n",
        "\n",
        "\n"
      ],
      "metadata": {
        "id": "tHeQgnkar5cM"
      }
    },
    {
      "cell_type": "code",
      "source": [
        "figure,ax=plt.subplots()\n",
        "figure.suptitle(\"Distribución edades\")\n",
        "\n",
        "\n",
        "pd.plotting.hist_series(dataset_sample['age'],bins=18,ax=ax)\n",
        "ax.set_xlabel(\"Edad\")\n",
        "ax.set_ylabel(\"Densidad\")\n",
        "ax.set_xlim(left=15,right=40)\n",
        "\n",
        "dataset_sample['age'].describe()"
      ],
      "metadata": {
        "id": "cj9SNndSNlpG"
      },
      "execution_count": null,
      "outputs": []
    },
    {
      "cell_type": "markdown",
      "source": [
        "### Edades y género\n",
        " se agrupará el dataset  de acuerdo al sexo del participante y se generan los gráficos correspondientes  en cada grupo.\n",
        "\n"
      ],
      "metadata": {
        "id": "rU9NzdxKPZ08"
      }
    },
    {
      "cell_type": "code",
      "source": [
        "#agrupacion por edades\n",
        "gender_groups=dataset_sample.groupby('gender')# retorna name,group\n",
        "#separacion por genero\n",
        "\n",
        "#males\n",
        "males_table=gender_groups.get_group('male')\n",
        "for col in males_table.columns:\n",
        "  males_table=males_table.rename(columns={col:'males_'+col})\n",
        "#females\n",
        "females_table=gender_groups.get_group('female')\n",
        "for col in females_table.columns:\n",
        "  females_table=females_table.rename(columns={col:'females_'+col})\n",
        "#df edades\n",
        "ages=pd.concat([females_table['females_age'],males_table['males_age']],axis=1)"
      ],
      "metadata": {
        "id": "6hbxmzzip8uf"
      },
      "execution_count": null,
      "outputs": []
    },
    {
      "cell_type": "code",
      "source": [
        "#  histograma edades\n",
        "figure,ax=plt.subplots(3,1,figsize=(7,11))\n",
        "figure.suptitle(\"Edades según sexo\")\n",
        "\n",
        "\n",
        "pd.plotting.hist_series(males_table['males_age'],color='blue',label='hombres',bins=18,ax=ax[0])\n",
        "ax[0].set_xlabel(\"Edad\")\n",
        "ax[0].set_ylabel(\"Densidad\")\n",
        "ax[0].legend()\n",
        "ax[0].set_xlim(left=15,right=40)\n",
        "\n",
        "pd.plotting.hist_series(females_table['females_age'],color='orange',label='mujeres',bins=18,ax=ax[1])\n",
        "ax[1].set_xlabel(\"Edad\")\n",
        "ax[1].set_ylabel(\"Densidad\")\n",
        "ax[1].legend()\n",
        "ax[1].set_xlim(left=15,right=40)\n",
        "\n",
        "#  boxplot edades\n",
        "pd.plotting.boxplot(ages,ax=ax[2],showmeans=True,boxprops={'color':'blue'},medianprops={'color':'orange'},ylabel='Age')\n",
        "\n",
        "\n"
      ],
      "metadata": {
        "id": "Gwf33Mq5rVR6"
      },
      "execution_count": null,
      "outputs": []
    },
    {
      "cell_type": "markdown",
      "source": [
        "### Edades y número de matches\n"
      ],
      "metadata": {
        "id": "stuWWOZEOlah"
      }
    },
    {
      "cell_type": "markdown",
      "source": [
        "Se ilustra en el gráfico la distribución en la cantidad del matches que recibe la persona dada su edad"
      ],
      "metadata": {
        "id": "UGfnBH3tU_47"
      }
    },
    {
      "cell_type": "code",
      "source": [
        "#agrupar por edades\n",
        "#dataset_sample['match'] = dataset_sample['match'].astype(int)\n",
        "age_groups=dataset_sample.groupby('age')\n",
        "age_matches = dataset_sample.groupby('age')['match'].sum()\n",
        "\n",
        "plt.bar(age_matches.index, age_matches.values, color='orange')\n",
        "plt.xlim(17, 45)\n",
        "plt.xlabel('Edad')\n",
        "plt.ylabel('Número de matches')\n",
        "plt.title('Número de matches por edad')\n",
        "plt.show()"
      ],
      "metadata": {
        "id": "2gie0JSH1uuO"
      },
      "execution_count": null,
      "outputs": []
    },
    {
      "cell_type": "markdown",
      "source": [
        "##Exploracion cualidades\n",
        "\n",
        "\n",
        "\n"
      ],
      "metadata": {
        "id": "0AOh6Ah2r9xc"
      }
    },
    {
      "cell_type": "markdown",
      "source": [
        "### Percepción propia vs percepción de las parejas\n",
        "\n",
        " agrupado los datos de acuerdo a la evaluación propia del individuo y la de la pareja.\n",
        "\n",
        "\n",
        "\n"
      ],
      "metadata": {
        "id": "wwUKzuBOe4cJ"
      }
    },
    {
      "cell_type": "code",
      "source": [
        "#percepcion propia vs ajena de atributos\n",
        "#tables\n",
        "dataset_sample.columns\n",
        "atributes_table=dataset_sample.loc[:,['gender','age','age_o', 'attractive', 'sincere', 'intelligence','funny', 'ambition','attractive_o', 'sincere_o', 'intelligence_o', 'funny_o', 'ambition_o']]\n",
        "#atributes self-perception\n",
        "self_perception_table=atributes_table.loc[:,['attractive', 'sincere', 'intelligence','funny', 'ambition']]\n",
        "#atributes partner-perception\n",
        "partner_perception_table=atributes_table.loc[:,['attractive_o', 'sincere_o', 'intelligence_o','funny_o', 'ambition_o']]"
      ],
      "metadata": {
        "id": "o5X6RZLrra8I"
      },
      "execution_count": null,
      "outputs": []
    },
    {
      "cell_type": "code",
      "source": [
        "#distribucion percepción propia vs pareja\n",
        "fig,ax=plt.subplots(2,figsize=(6,11))\n",
        "\n",
        "pd.plotting.boxplot(self_perception_table,vert=False,ax=ax[0],showfliers=False,showmeans=True)\n",
        "ax[0].set_title(\"Distribución percepción propia\")\n",
        "pd.plotting.boxplot(partner_perception_table,vert=False,ax=ax[1],showfliers=False,showmeans=True)\n",
        "ax[1].set_title(\"Distribución percepción de la pareja\")\n",
        "ax[1].set_xlabel(\"Puntuación (1 a 10)\")"
      ],
      "metadata": {
        "id": "ggpARlxvvgix"
      },
      "execution_count": null,
      "outputs": []
    },
    {
      "cell_type": "markdown",
      "source": [
        "\n",
        "Luego se calculan los promedios de estos para cada atributo.Los resultados son los siguientes.\n"
      ],
      "metadata": {
        "id": "x0i9mVg4wxNB"
      }
    },
    {
      "cell_type": "code",
      "source": [
        "for col in partner_perception_table.columns:\n",
        "  partner_perception_table=partner_perception_table.rename(columns={col:col.rstrip('_o')})\n",
        "\n",
        "merge_table=pd.concat([self_perception_table.mean(),partner_perception_table.mean()],axis=1)\n",
        "merge_table=merge_table.rename(columns={0:'percepción propia',1:'percepción pareja'})\n",
        "\n",
        "fig,ax=plt.subplots(1)\n",
        "fig.suptitle(\"Percepcion propia y de la pareja respecto a atributos\")\n",
        "merge_table.plot.area(stacked=False,ax=ax)\n",
        "ax.set_ylabel(\"Promedio (1 a 10)\")\n",
        "merge_table"
      ],
      "metadata": {
        "id": "qDxHs5mvrfhj"
      },
      "execution_count": null,
      "outputs": []
    },
    {
      "cell_type": "markdown",
      "source": [
        "Es  posible deducir  que en promedio  el sujeto tiende  a sobrestimar sus atributos  con respecto a la opinión  de la pareja. Es interesante mencionar que la mayor discrepancia de estimación se produce en el atributo “gracioso/a”.\n",
        "\n"
      ],
      "metadata": {
        "id": "0ChSJVbIw0p6"
      }
    },
    {
      "cell_type": "markdown",
      "source": [
        "###Exploracion preferencias por sexo\n",
        "\n",
        "\n",
        "se obtienen las principales estadísticas  de las preferencias  (a nivel global)  y se visualizan  en  gráficos de caja para cada atributo.\n",
        "\n",
        "\n"
      ],
      "metadata": {
        "id": "j0ifV8F8sHI5"
      }
    },
    {
      "cell_type": "code",
      "source": [
        "#preferences\n",
        "dataset_sample.head()\n",
        "preferences_table=dataset_sample.loc[:,['race','age','gender','attractive_important', 'sincere_important',\n",
        "       'intellicence_important', 'funny_important', 'ambtition_important']]\n",
        "\n",
        "#preferences distribution\n",
        "fig,ax=plt.subplots()\n",
        "pd.plotting.boxplot(preferences_table.loc[:,['attractive_important', 'sincere_important',\n",
        "       'intellicence_important', 'funny_important', 'ambtition_important']],vert=False,showfliers=False,ax=ax,showmeans=True)\n",
        "ax.set_title('Distribución de preferencias')\n",
        "ax.set_xlabel('Puntuación(1 a 100)')\n",
        "preferences_table.describe()\n"
      ],
      "metadata": {
        "id": "0WRs7_vvriIu"
      },
      "execution_count": null,
      "outputs": []
    },
    {
      "cell_type": "code",
      "source": [
        "#preferences  by gender\n",
        "gender_prefences_groups=preferences_table.loc[:,['gender','attractive_important', 'sincere_important',\n",
        "       'intellicence_important', 'funny_important', 'ambtition_important']].groupby('gender')\n",
        "\n",
        "males_preferences=gender_prefences_groups.get_group('male')\n",
        "females_preferences=gender_prefences_groups.get_group('female')\n",
        "\n",
        "females_preferences.describe()"
      ],
      "metadata": {
        "id": "pxwV7BAkrsJ5"
      },
      "execution_count": null,
      "outputs": []
    },
    {
      "cell_type": "code",
      "source": [
        "males_preferences.describe()"
      ],
      "metadata": {
        "id": "kotTRuHq7Pyc"
      },
      "execution_count": null,
      "outputs": []
    },
    {
      "cell_type": "code",
      "source": [
        "\n",
        "pref_by_gender=pd.concat([males_preferences.mean(),females_preferences.mean()],axis=1)\n",
        "pref_by_gender=pref_by_gender.rename(columns={0:'preferencias masculinas',1:'preferencias femeninas'})\n",
        "#ploting gender preferences\n",
        "fig ,ax=plt.subplots()\n",
        "fig.suptitle(\"Preferencias por sexo\")\n",
        "pref_by_gender.plot.barh(ax=ax)\n",
        "ax.set_xlabel(\"Promedio\")\n",
        "\n"
      ],
      "metadata": {
        "id": "FHx5enORruKi"
      },
      "execution_count": null,
      "outputs": []
    },
    {
      "cell_type": "markdown",
      "source": [
        "\n",
        "Se observa una clara diferencia  entre las preferencias de los hombres  y mujeres.Es posible notar que en promedio  los hombres de este experimento tenían una mayor preferencia  al atributo “belleza”. Mientras que las mujeres de este estudio  puntuaron mejor el atributo “inteligencia”. Notar que para ambos grupos  la “ambición” fue lo menos relevante.\n"
      ],
      "metadata": {
        "id": "SirOyFrpxBdg"
      }
    },
    {
      "cell_type": "markdown",
      "source": [
        "###Análisis diferencias de atributos en match  y no match\n",
        "\n",
        "se observó la diferencia en las calificaciones que recibían los usuarios que hacían match y los que no en cada atributo, incluyendo la edad. Se buscó determinar si existía algún atributo que, al ser muy diferente, implicaba de manera certera un rechazo. En el caso de la edad, se consideró si una gran diferencia de edad podría implicar un rechazo.\n",
        "\n",
        "\n",
        "\n"
      ],
      "metadata": {
        "id": "OHqdSGijj9dr"
      }
    },
    {
      "cell_type": "code",
      "source": [
        "import matplotlib.pyplot as plt\n",
        "\n",
        "###Intento de grafico las diferencias de atributos en los match y no match\n",
        "\n",
        "sub_data = dataset_sample.loc[:, [\"d_age\", \"attractive_o\", \"sincere_o\", \"intelligence_o\", \"funny_o\",  \"ambition_o\", \"shared_interests_o\", \"attractive_partner\", \"sincere_partner\", \"intelligence_partner\", \"funny_partner\", \"ambition_partner\", \"shared_interests_partner\", \"match\"]]\n",
        "sub_data[\"attractive_diff\"] = sub_data[\"attractive_partner\"].sub(sub_data[\"attractive_o\"]).abs()\n",
        "sub_data[\"sincere_diff\"] = sub_data[\"sincere_partner\"].sub(sub_data[\"sincere_o\"]).abs()\n",
        "sub_data[\"intelligence_diff\"] = sub_data[\"intelligence_partner\"].sub(sub_data[\"intelligence_o\"]).abs()\n",
        "sub_data[\"funny_diff\"] = sub_data[\"funny_partner\"].sub(sub_data[\"funny_o\"]).abs()\n",
        "sub_data[\"ambitous_diff\"] = sub_data[\"ambition_partner\"].sub(sub_data[\"ambition_o\"]).abs()\n",
        "sub_data[\"shared_interests_diff\"] = sub_data[\"shared_interests_partner\"].sub(sub_data[\"shared_interests_o\"]).abs()\n",
        "\n",
        "sub_data.drop([ \"attractive_o\", \"sincere_o\", \"intelligence_o\", \"funny_o\",  \"ambition_o\", \"shared_interests_o\", \"attractive_partner\", \"sincere_partner\", \"intelligence_partner\", \"funny_partner\", \"ambition_partner\", \"shared_interests_partner\"], axis=1, inplace=True)\n",
        "\n",
        "matches = sub_data[sub_data[\"match\"] == 1]\n",
        "non_matches = sub_data[sub_data[\"match\"] == 0]\n",
        "\n",
        "# create a list of the columns to create box plots for\n",
        "columns = [\"d_age\", \"attractive_diff\", \"sincere_diff\", \"intelligence_diff\", \"funny_diff\", \"ambitous_diff\", \"shared_interests_diff\"]\n",
        "\n",
        "\n",
        "fig,ax=plt.subplots()\n",
        "pd.plotting.boxplot(matches.loc[:,columns],vert=False,showfliers=False,ax=ax,showmeans=True)\n",
        "ax.set_title('Match')\n",
        "ax.set_xlabel('Difference in rating')\n",
        "\n",
        "fig,ax=plt.subplots()\n",
        "pd.plotting.boxplot(non_matches.loc[:,columns],vert=False,showfliers=False,ax=ax,showmeans=True)\n",
        "ax.set_title('No Match')\n",
        "ax.set_xlabel('Difference in rating')\n",
        "\n"
      ],
      "metadata": {
        "id": "8a1XCHtHt2jQ"
      },
      "execution_count": null,
      "outputs": []
    },
    {
      "cell_type": "markdown",
      "source": [
        "### Analisis de match en personas de atributos similares\n",
        "Otra duda interesante  que se explora es la de si las personas que poseen atributos similares tienden a gustarse. Se abordará esta interrogante para el atributo  “inteligencia”.\n"
      ],
      "metadata": {
        "id": "fwt2ssawb8_R"
      }
    },
    {
      "cell_type": "code",
      "source": [
        "import numpy as np\n",
        "import matplotlib.pyplot as plt\n",
        "\n",
        "# Filtrar las filas que no tienen valores NaN o None en la columna \"match\"\n",
        "i_dataset_sample = dataset_sample[dataset_sample['match'].notna()]\n",
        "\n",
        "# Convertir la columna \"match\" a tipo entero si es de tipo objeto\n",
        "#if i_dataset_sample['match'].dtype == np.object:\n",
        "#   i_dataset_sample['match'] = i_dataset_sample['match'].astype(int)\n",
        "\n",
        "# Calcular la diferencia entre \"intelligence_o\" e \"intelligence\"\n",
        "i_dataset_sample['intelligence_diff'] = abs(i_dataset_sample['intelligence_o'] - i_dataset_sample['intelligence'])\n",
        "\n",
        "# Contar la cantidad de filas que hacen match con cada valor en \"intelligence_diff\"\n",
        "match_counts = i_dataset_sample[i_dataset_sample['match'] == 1]['intelligence_diff'].value_counts().sort_index()\n",
        "\n",
        "# Verificar que al menos una fila tiene \"1\" como valor en \"match\"\n",
        "assert (i_dataset_sample['match'] == 1).any(), \"No hay filas con valor de match igual a 1\"\n",
        "\n",
        "# Verificar que hay valores únicos en la columna \"intelligence_diff\"\n",
        "assert i_dataset_sample['intelligence_diff'].nunique() > 0, \"No hay valores únicos en la diferencia de inteligencias\"\n",
        "\n",
        "# Graficar los resultados\n",
        "fig, ax = plt.subplots()\n",
        "ax.bar(match_counts.index, match_counts.values,color='pink')\n",
        "ax.set_xlabel('Absoluto de la diferencia de inteligencias')\n",
        "ax.set_ylabel('Cantidad de matches')\n",
        "plt.show()\n",
        "\n",
        "# Verificar que la figura esté mostrando algo\n",
        "#assert fig.canvas.renderer.buffer_rgba().sum() > 0, \"La figura está vacía\"\n"
      ],
      "metadata": {
        "id": "c4_mP9tCb7rA"
      },
      "execution_count": null,
      "outputs": []
    },
    {
      "cell_type": "markdown",
      "source": [
        "Podemos  deducir que existe una correlación inversa  entre  la diferencia  de edades  y  los matches  entre participantes, notar  que  se presenta una mayor cantidad de matches  mientras  su inteligencia (auto percibida) sea parecida.\n"
      ],
      "metadata": {
        "id": "p_vAvCWahGTS"
      }
    },
    {
      "cell_type": "markdown",
      "source": [
        "## Exploración Razas\n",
        "\n",
        "\n"
      ],
      "metadata": {
        "id": "kxo-O2ZufVYs"
      }
    },
    {
      "cell_type": "markdown",
      "source": [
        "Para abordar esto se agrupan a los participantes por raza  y se cuentan la cantidad de likes (decisiones positivas) y matches que  estos obtienen (Gráfico 1), en este caso  estamos contando cantidades totales.En segunda instancia se calcularán estos mismos atributos (matches y likes) pero calculando su promedio."
      ],
      "metadata": {
        "id": "d6q4EMZ0uvY-"
      }
    },
    {
      "cell_type": "code",
      "source": [
        "\n",
        "likes = dataset_sample.groupby(\"race\")[\"decision_o\"].sum()\n",
        "matches = dataset_sample.groupby(\"race\")[\"match\"].sum()\n",
        "\n",
        "# Generar el gráfico de barras\n",
        "likes.plot(kind='bar', color='blue')\n",
        "\n",
        "matches.plot(kind='bar', color='orange')\n",
        "\n",
        "plt.xlabel('Raza')\n",
        "plt.ylabel('Cantidad')\n",
        "plt.title('Cantidad de likes/matches por raza')\n",
        "plt.legend(labels=['Like', 'Match'])\n",
        "\n",
        "\n",
        "\n",
        "\n",
        "\n",
        "plt.show()\n",
        "\n",
        "\n",
        "cantidad_personas_por_raza = dataset_sample['race'].value_counts()\n",
        "\n",
        "prop_sies_por_raza = dataset_sample.groupby('race')['decision_o'].mean()\n",
        "prop_match_por_raza = dataset_sample.groupby('race')['match'].mean()\n",
        "\n",
        "colores = ['r', 'g', 'b']\n",
        "\n",
        "#diferencia de porcentajes\n",
        "dif = pd.merge(prop_sies_por_raza, prop_match_por_raza, on='race', how='left')\n",
        "\n",
        "\n",
        "\n",
        "# Generar el gráfico de barras\n",
        "dif.plot(kind='bar', color=colores)\n",
        "plt.xlabel('Raza')\n",
        "plt.ylabel('Porcentaje')\n",
        "plt.title('Porcentajes')\n",
        "plt.legend(labels=['Like', 'Match'])\n",
        "\n",
        "plt.show()"
      ],
      "metadata": {
        "id": "aLJdX86bWi_h"
      },
      "execution_count": null,
      "outputs": []
    },
    {
      "cell_type": "markdown",
      "source": [
        "## Análisis de puntuación y decisiones positivas\n",
        "\n",
        "Una vez es terminado el experimento  de cita para cada pareja, se pide a cada uno de los integrantes  que evalúen en general a su pareja  en la escala del 1 al 10 (like) y que entreguen una decisión (si ambos  deciden positivamente  hay un match).A continuación  indagaremos cuantas decisiones positivas son otorgadas  a los individuos  en relación a su like.\n"
      ],
      "metadata": {
        "id": "0t-vMBdvhy9E"
      }
    },
    {
      "cell_type": "code",
      "source": [
        "## decision sobre una persona  basado en su puntuación (l)\n",
        "\n",
        "##  like vs  decision\n",
        "like_table=dataset_sample.loc[:,['like','decision']]\n",
        "like_table['like']=round(like_table['like'])\n",
        "\n",
        "\n",
        "total_likes=like_table.groupby('like').sum().rename(columns={'decision':'sum'})\n",
        "count_likes=like_table.groupby('like').count().rename(columns={'decision':'count'})\n",
        "merged_like_table=pd.concat([total_likes,count_likes],axis=1)\n",
        "merged_like_table['avg']=merged_like_table['sum']/merged_like_table['count']\n",
        "merged_like_table\n",
        "\n",
        "fig,ax=plt.subplots(2)\n",
        "merged_like_table['avg'].plot(ax=ax[1])\n",
        "\n",
        "like_table['like'].hist(ax=ax[0],bins=11,figsize=(7,12))\n",
        "ax[0].set_title('Distribucion like')\n",
        "ax[0].set_ylabel('Densidad')\n",
        "ax[0].set_xlabel('Puntuación (like de 1 a 10)')\n",
        "\n",
        "\n",
        "merged_like_table['avg'].plot(ax=ax[1])\n",
        "ax[1].set_title('Decisiones sobre sujeto de acuerdo al like')\n",
        "ax[1].set_ylabel('Probabilidad de decision positiva')\n",
        "ax[1].set_xlabel('Puntuación (like de 1 a 10)')"
      ],
      "metadata": {
        "id": "nV9RYhPsr7ME"
      },
      "execution_count": null,
      "outputs": []
    },
    {
      "cell_type": "markdown",
      "source": [
        "# Experimento 1 (Impotancia Atributos)\n"
      ],
      "metadata": {
        "id": "2aLx65yHZ35l"
      }
    },
    {
      "cell_type": "markdown",
      "source": [
        "## preprocesing\n"
      ],
      "metadata": {
        "id": "PadRouqjyqXw"
      }
    },
    {
      "cell_type": "code",
      "source": [
        "from sklearn.preprocessing import OneHotEncoder\n",
        "from sklearn.impute import KNNImputer\n",
        "\n",
        "#eliminamos  columna de ocupaciones pues son demasiadas diferentes que no aportan al modelo\n",
        "#eliminamos  columna wave que no tienen sentido en el modelo (labels  o informacion innecesaria)\n",
        "processed_data=dataset_sample.drop(['field','wave','decision','decision_o'],axis=1)\n",
        "\n",
        "#transformamos columnas categóricas (son todas nominales)  en numéricas aprevechamos race, race_o y genero\n",
        "nominal_categories = processed_data[['gender', 'race', 'race_o']]\n",
        "encoder = OneHotEncoder(sparse_output=False)\n",
        "nominal_encoded=encoder.fit_transform(nominal_categories)\n",
        "columns_encoded = encoder.get_feature_names_out(nominal_categories.columns)\n",
        "nominal_categories = pd.DataFrame(nominal_encoded, columns=columns_encoded)\n",
        "\n",
        "processed_data=processed_data.drop(['gender', 'race', 'race_o'],axis=1)\n",
        "processed_data=pd.concat([processed_data, nominal_categories], axis=1)\n",
        "#inputamos naN  para no perder datos ,si eliminamos filas con nulos nos qiedamos con solo 1000 filas\n",
        "# len(processed_data.dropna())\n",
        "imputer = KNNImputer(n_neighbors=5)\n",
        "processed_data=imputer.fit_transform(processed_data)\n",
        "processed_data=pd.DataFrame(processed_data,columns=imputer.feature_names_in_)\n",
        "processed_data.isna().sum()\n"
      ],
      "metadata": {
        "colab": {
          "base_uri": "https://localhost:8080/"
        },
        "id": "uGdsMY-FCcBS",
        "outputId": "b58173aa-2f05-45b3-8425-72084bb6b5ec"
      },
      "execution_count": null,
      "outputs": [
        {
          "output_type": "execute_result",
          "data": {
            "text/plain": [
              "age                     0\n",
              "age_o                   0\n",
              "d_age                   0\n",
              "samerace                0\n",
              "importance_same_race    0\n",
              "                       ..\n",
              "race_o_Asian            0\n",
              "race_o_European         0\n",
              "race_o_Latino           0\n",
              "race_o_Not mencioned    0\n",
              "race_o_Other            0\n",
              "Length: 74, dtype: int64"
            ]
          },
          "metadata": {},
          "execution_count": 25
        }
      ]
    },
    {
      "cell_type": "markdown",
      "source": [
        "## Arbol decision (todas las columnas no label)"
      ],
      "metadata": {
        "id": "pvK1-J6DpVPY"
      }
    },
    {
      "cell_type": "code",
      "source": [
        "#Arbol de desición\n",
        "from sklearn.tree import DecisionTreeClassifier,plot_tree\n",
        "from sklearn.model_selection import train_test_split\n",
        "from sklearn.metrics import classification_report\n",
        "\n",
        "#separamos labels\n",
        "decisionT_X = processed_data.drop(['match'], axis=1)\n",
        "decisionT_y = processed_data['match']\n",
        "\n",
        "#se divide el conjunto en 70-30 entrenamiento y test\n",
        "X_train, X_test, y_train, y_test = train_test_split(decisionT_X, decisionT_y, test_size=.33,random_state=37,stratify=decisionT_y)\n",
        "#entrenamos el modelo\n",
        "tree_clasiffier=DecisionTreeClassifier()\n",
        "tree_clasiffier.fit(X_train,y_train)\n",
        "\n",
        "#aunque no es el objetivo del  experimento, obtenemos métricas (2 objetivos tener un piso para los exp de clasificación , tener alguna certeza de la representabilidad del árbol)\n",
        "y_pred = tree_clasiffier.predict(X_test)\n",
        "pd.Series(y_pred).value_counts()\n",
        "print(classification_report(y_test, y_pred))\n",
        "\n"
      ],
      "metadata": {
        "colab": {
          "base_uri": "https://localhost:8080/"
        },
        "id": "7IG_0Wukmm2D",
        "outputId": "321ab539-7304-45e9-8cef-21f20ef2d646"
      },
      "execution_count": null,
      "outputs": [
        {
          "output_type": "stream",
          "name": "stdout",
          "text": [
            "              precision    recall  f1-score   support\n",
            "\n",
            "         0.0       0.87      0.87      0.87      2310\n",
            "         1.0       0.33      0.32      0.33       455\n",
            "\n",
            "    accuracy                           0.78      2765\n",
            "   macro avg       0.60      0.60      0.60      2765\n",
            "weighted avg       0.78      0.78      0.78      2765\n",
            "\n"
          ]
        }
      ]
    },
    {
      "cell_type": "code",
      "source": [
        "#visualizacion de arbol\n",
        "plt.figure(figsize = (30,20))\n",
        "plot_tree( # Función que nos permite visualizar el árbol de decisión ajustado.\n",
        "    tree_clasiffier, # Objeto de nuestro árbol de decisión entrenado.\n",
        "    feature_names = processed_data.columns, # Nombres de las variables utilizadas para entrenar.\n",
        "    class_names = [\"no-match\",\"match\"], # Nombre de las clases que estamos prediciendo.\n",
        "    max_depth=3,#altura del arbol\n",
        "    proportion = True, # Visualizamos las proporciones de datos en cada nodo de decisión,\n",
        "    filled=True, # Coloreamos los nodos\n",
        "    fontsize=11, # Establecemos el tamaño de la letra del texto dentro de cada nodo.\n",
        ")\n",
        "plt.show()"
      ],
      "metadata": {
        "colab": {
          "base_uri": "https://localhost:8080/",
          "height": 981
        },
        "id": "fNHS59n6HTu9",
        "outputId": "83298ae5-89d8-478f-9db3-a2f60d7aa8f6"
      },
      "execution_count": null,
      "outputs": [
        {
          "output_type": "display_data",
          "data": {
            "text/plain": [
              "<Figure size 3000x2000 with 1 Axes>"
            ],
            "image/png": "[encoded data removed]"
          },
          "metadata": {}
        }
      ]
    },
    {
      "cell_type": "markdown",
      "source": [
        "## Random Forest (Todas las columnas no label)"
      ],
      "metadata": {
        "id": "YLkjavxdJW7L"
      }
    },
    {
      "cell_type": "code",
      "source": [
        "from sklearn.ensemble import RandomForestClassifier\n",
        "from sklearn.model_selection import train_test_split\n",
        "\n",
        "\n",
        "# Elimina las filas que contienen valores nulos o faltantes\n",
        "processed_data = processed_data.dropna()\n",
        "\n",
        "# eliminamos características directamente relacionadas al match\n",
        "X = processed_data.drop(['match'], axis=1)\n",
        "\n",
        "# Divide el conjunto de datos en características y objetivos\n",
        "y = processed_data['match']\n",
        "\n",
        "\n",
        "# Crea el modelo de Random Forest\n",
        "model = RandomForestClassifier(n_estimators=100, random_state=42)\n",
        "model.fit(X, y)\n",
        "\n",
        "importance = model.feature_importances_\n",
        "\n",
        "feature_importance = pd.DataFrame({'feature': X.columns, 'importance': importance})\n",
        "\n",
        "feature_importance = feature_importance.sort_values('importance', ascending=False).reset_index(drop=True)\n",
        "\n",
        "print(feature_importance)\n",
        "\n"
      ],
      "metadata": {
        "colab": {
          "base_uri": "https://localhost:8080/"
        },
        "id": "asbt9HQLL2KR",
        "outputId": "c10656c9-7ea7-4b52-b001-408a78b14423"
      },
      "execution_count": null,
      "outputs": [
        {
          "output_type": "stream",
          "name": "stdout",
          "text": [
            "                 feature  importance\n",
            "0                   like    0.051592\n",
            "1           attractive_o    0.051516\n",
            "2     shared_interests_o    0.039199\n",
            "3                funny_o    0.039134\n",
            "4     attractive_partner    0.033535\n",
            "..                   ...         ...\n",
            "68        race_o_African    0.001978\n",
            "69            race_Other    0.001625\n",
            "70          race_African    0.001589\n",
            "71  race_o_Not mencioned    0.000422\n",
            "72    race_Not mencioned    0.000265\n",
            "\n",
            "[73 rows x 2 columns]\n"
          ]
        }
      ]
    },
    {
      "cell_type": "code",
      "source": [
        "plt.figure(figsize=(10, 6))\n",
        "plt.bar(feature_importance['feature'], feature_importance['importance'])\n",
        "plt.xticks(rotation=90)\n",
        "plt.ylabel('Importancia')\n",
        "plt.xlabel('Característica')\n",
        "plt.title('Importancia de cada característica')\n",
        "plt.show()"
      ],
      "metadata": {
        "colab": {
          "base_uri": "https://localhost:8080/",
          "height": 811
        },
        "id": "mbwTnF5YMi4C",
        "outputId": "1bde0c63-2032-49e1-fe9d-9efcf008843d"
      },
      "execution_count": null,
      "outputs": [
        {
          "output_type": "display_data",
          "data": {
            "text/plain": [
              "<Figure size 1000x600 with 1 Axes>"
            ],
            "image/png": "[encoded data removed]"
          },
          "metadata": {}
        }
      ]
    },
    {
      "cell_type": "markdown",
      "source": [
        "## Decision Tree (sólo atributos fisicos/personalidad de los participantes)"
      ],
      "metadata": {
        "id": "2ZCmkKeUg7lA"
      }
    },
    {
      "cell_type": "code",
      "source": [
        "from sklearn.preprocessing import OneHotEncoder\n",
        "from sklearn.impute import KNNImputer\n",
        "\n",
        "#eliminamos  columna de ocupaciones pues son demasiadas diferentes que no aportan al modelo\n",
        "#eliminamos  columna wave que no tiene sentido en el modelo\n",
        "#eliminamos  columnsque no tienen que ver  con la personalidad ni con el fisico\n",
        "processed_data=dataset_sample.drop(['field','wave','decision','decision_o','like',],axis=1)\n",
        "\n",
        "#transformamos columnas categóricas (son todas nominales)  en numéricas aprevechamos race, race_o y genero\n",
        "nominal_categories = processed_data[['gender', 'race', 'race_o']]\n",
        "encoder = OneHotEncoder(sparse_output=False)\n",
        "nominal_encoded=encoder.fit_transform(nominal_categories)\n",
        "columns_encoded = encoder.get_feature_names_out(nominal_categories.columns)\n",
        "nominal_categories = pd.DataFrame(nominal_encoded, columns=columns_encoded)\n",
        "\n",
        "processed_data=processed_data.drop(['gender', 'race', 'race_o'],axis=1)\n",
        "processed_data=pd.concat([processed_data, nominal_categories], axis=1)\n",
        "#inputamos naN  para no perder datos ,si eliminamos filas con nulos nos qiedamos con solo 1000 filas\n",
        "# len(processed_data.dropna())\n",
        "imputer = KNNImputer(n_neighbors=5)\n",
        "processed_data=imputer.fit_transform(processed_data)\n",
        "processed_data=pd.DataFrame(processed_data,columns=imputer.feature_names_in_)\n",
        "processed_data.isna().sum()\n",
        "\n",
        "processed_data.columns\n"
      ],
      "metadata": {
        "colab": {
          "base_uri": "https://localhost:8080/"
        },
        "id": "dWEza3wohDgH",
        "outputId": "3faacbe0-f6da-44ea-d2a8-5100bf832050"
      },
      "execution_count": null,
      "outputs": [
        {
          "output_type": "execute_result",
          "data": {
            "text/plain": [
              "Index(['age', 'age_o', 'd_age', 'samerace', 'importance_same_race',\n",
              "       'importance_same_religion', 'pref_o_attractive', 'pref_o_sincere',\n",
              "       'pref_o_intelligence', 'pref_o_funny', 'pref_o_ambitious',\n",
              "       'pref_o_shared_interests', 'attractive_o', 'sincere_o',\n",
              "       'intelligence_o', 'funny_o', 'ambition_o', 'shared_interests_o',\n",
              "       'attractive_important', 'sincere_important', 'intellicence_important',\n",
              "       'funny_important', 'ambtition_important', 'shared_interests_important',\n",
              "       'attractive', 'sincere', 'intelligence', 'funny', 'ambition',\n",
              "       'attractive_partner', 'sincere_partner', 'intelligence_partner',\n",
              "       'funny_partner', 'ambition_partner', 'shared_interests_partner',\n",
              "       'sports', 'tvsports', 'exercise', 'dining', 'museums', 'art', 'hiking',\n",
              "       'gaming', 'clubbing', 'reading', 'tv', 'theater', 'movies', 'concerts',\n",
              "       'music', 'shopping', 'yoga', 'interests_correlate',\n",
              "       'expected_happy_with_sd_people', 'expected_num_interested_in_me',\n",
              "       'expected_num_matches', 'guess_prob_liked', 'met', 'match',\n",
              "       'gender_female', 'gender_male', 'race_African', 'race_Asian',\n",
              "       'race_European', 'race_Latino', 'race_Not mencioned', 'race_Other',\n",
              "       'race_o_African', 'race_o_Asian', 'race_o_European', 'race_o_Latino',\n",
              "       'race_o_Not mencioned', 'race_o_Other'],\n",
              "      dtype='object')"
            ]
          },
          "metadata": {},
          "execution_count": 30
        }
      ]
    },
    {
      "cell_type": "code",
      "source": [
        "y"
      ],
      "metadata": {
        "id": "cVBA6BaJFJDF",
        "outputId": "0671a74e-a0d6-4bc4-bfa0-e7605edcca13",
        "colab": {
          "base_uri": "https://localhost:8080/"
        }
      },
      "execution_count": null,
      "outputs": [
        {
          "output_type": "execute_result",
          "data": {
            "text/plain": [
              "0       0.0\n",
              "1       0.0\n",
              "2       1.0\n",
              "3       1.0\n",
              "4       1.0\n",
              "       ... \n",
              "8373    0.0\n",
              "8374    0.0\n",
              "8375    0.0\n",
              "8376    0.0\n",
              "8377    0.0\n",
              "Name: match, Length: 8378, dtype: float64"
            ]
          },
          "metadata": {},
          "execution_count": 31
        }
      ]
    },
    {
      "cell_type": "markdown",
      "source": [
        "# Experimento 2(Calsificacion):"
      ],
      "metadata": {
        "id": "zN5ITqEHnke1"
      }
    },
    {
      "cell_type": "code",
      "source": [
        "data.shape"
      ],
      "metadata": {
        "colab": {
          "base_uri": "https://localhost:8080/",
          "height": 165
        },
        "id": "4bAJ5DM90j27",
        "outputId": "3d27d284-334d-4b4d-cb6f-02502226232e"
      },
      "execution_count": null,
      "outputs": [
        {
          "output_type": "error",
          "ename": "NameError",
          "evalue": "ignored",
          "traceback": [
            "\u001b[0;31m---------------------------------------------------------------------------\u001b[0m",
            "\u001b[0;31mNameError\u001b[0m                                 Traceback (most recent call last)",
            "\u001b[0;32m<ipython-input-33-047ed65ff157>\u001b[0m in \u001b[0;36m<cell line: 1>\u001b[0;34m()\u001b[0m\n\u001b[0;32m----> 1\u001b[0;31m \u001b[0mdata\u001b[0m\u001b[0;34m.\u001b[0m\u001b[0mshape\u001b[0m\u001b[0;34m\u001b[0m\u001b[0;34m\u001b[0m\u001b[0m\n\u001b[0m",
            "\u001b[0;31mNameError\u001b[0m: name 'data' is not defined"
          ]
        }
      ]
    },
    {
      "cell_type": "code",
      "source": [],
      "metadata": {
        "id": "mnPdbcBY0wsP"
      },
      "execution_count": null,
      "outputs": []
    },
    {
      "cell_type": "code",
      "source": [
        "\n",
        "#row['ambition_o'] == compare_row['ambition_partner'] and\n",
        "#row['ambition_partner'] == compare_row['ambition_o'] and\n",
        "#row['shared_interests_o'] == compare_row['shared_interests_partner'] and\n",
        "#row['shared_interests_partner'] == compare_row['shared_interests_o']"
      ],
      "metadata": {
        "id": "EqIBaG5EF_rH"
      },
      "execution_count": null,
      "outputs": []
    },
    {
      "cell_type": "code",
      "source": [
        "df_match = data.copy()\n",
        "df_match_0 = df_match[df_match[\"match\"] == 0]\n",
        "\n",
        "# Seleccionar 80 datos al azar\n",
        "datos_al_azar = df_match_0.sample(n=180)\n"
      ],
      "metadata": {
        "id": "tpiPjvDt3-3_"
      },
      "execution_count": null,
      "outputs": []
    },
    {
      "cell_type": "code",
      "source": [
        "datos_al_azar.shape"
      ],
      "metadata": {
        "id": "nENj-Naf5YWp"
      },
      "execution_count": null,
      "outputs": []
    },
    {
      "cell_type": "code",
      "source": [
        "df_match = data.copy()\n",
        "df_match_1 = df_match[df_match[\"match\"] == 1]\n",
        "df_match_1.shape"
      ],
      "metadata": {
        "id": "isWtfHPq6Ohf"
      },
      "execution_count": null,
      "outputs": []
    },
    {
      "cell_type": "code",
      "source": [
        "nuevos_datos = datos_al_azar.append(df_match_1, ignore_index=False)\n",
        "nuevos_datos.shape"
      ],
      "metadata": {
        "id": "pBwCmr_p50a4"
      },
      "execution_count": null,
      "outputs": []
    },
    {
      "cell_type": "code",
      "source": [
        "from sklearn.dummy import DummyClassifier\n",
        "from sklearn.tree import DecisionTreeClassifier\n",
        "from sklearn.naive_bayes import GaussianNB  # naive bayes\n",
        "from sklearn.neighbors import KNeighborsClassifier #kNN\n",
        "from sklearn.svm import SVC  # support vector machine\n",
        "from sklearn.metrics import classification_report\n",
        "from sklearn.metrics import f1_score, recall_score, precision_score\n",
        "from sklearn.model_selection import train_test_split\n",
        "import numpy as np\n",
        "\n",
        "def run_classifier(clf, X, y, num_tests=100):\n",
        "    metrics = {'precision': [], 'recall': [], 'f1-score': []}\n",
        "\n",
        "    for _ in range(num_tests):\n",
        "        X_train, X_test, y_train, y_test = train_test_split(X, y, test_size=.30)\n",
        "        ### INICIO COMPLETAR ACÁ\n",
        "        clf.fit(X_train, y_train)\n",
        "        predictions = clf.predict(X_test)\n",
        "\n",
        "        #### TIP: en base a los set de entrenamiento, genere la variable 'predictions'\n",
        "        #### que contiene las predicciones del modelo\n",
        "\n",
        "\n",
        "        pd.Series(predictions).value_counts()\n",
        "\n",
        "        ### FIN COMPLETAR ACÁ\n",
        "        # 0=Malignant, 1=Benign. In sklearn metrics, positive label is by default=1\n",
        "        #metrics['y_pred'] = predictions\n",
        "        #metrics['precision'].append(precision_score(y_test, predictions, pos_label=0))\n",
        "        #metrics['recall'].append(recall_score(y_test, predictions, pos_label=0))\n",
        "        #metrics['f1-score'].append(f1_score(y_test, predictions, pos_label=0))\n",
        "    return classification_report(y_test, predictions)\n",
        "\n",
        "\n",
        "# Elimina las filas que contienen valores nulos o faltantes\n",
        "processed_data = data.copy().dropna() #nuevos_datos.copy().dropna()#processed_data.dropna()\n",
        "X = processed_data.drop(['match'], axis=1)\n",
        "\n",
        "# Divide el conjunto de datos en características y objetivos\n",
        "y = processed_data['match']\n",
        "\n",
        "c0 = (\"Base Dummy\", DummyClassifier(strategy='stratified'))\n",
        "c1 = (\"Decision Tree\", DecisionTreeClassifier(max_depth=5))\n",
        "c2 = (\"Gaussian Naive Bayes\", GaussianNB())\n",
        "c3 = (\"KNN\", KNeighborsClassifier(n_neighbors=10))\n",
        "c4 = (\"Support Vector Machines\", SVC())\n",
        "\n",
        "classifiers = [c0, c1, c2, c3, c4]"
      ],
      "metadata": {
        "id": "QWj5KPpR3N3c"
      },
      "execution_count": null,
      "outputs": []
    },
    {
      "cell_type": "code",
      "source": [
        "results = {}\n",
        "for name, clf in classifiers:\n",
        "    metrics = run_classifier(clf, X, y)   # hay que implementarla en el bloque anterior.\n",
        "    #results[name] = metrics\n",
        "    print(\"----------------\")\n",
        "    print(metrics)\n",
        "#    print(\"Resultados para clasificador: \", name)\n",
        "#    print(\"Precision promedio:\", np.array(metrics['precision']).mean())\n",
        "#    print(\"Recall promedio:\", np.array(metrics['recall']).mean())\n",
        "#    print(\"F1-score promedio:\", np.array(metrics['f1-score']).mean())\n",
        "    print(\"----------------\\n\\n\")"
      ],
      "metadata": {
        "id": "rz7MApe44DZt"
      },
      "execution_count": null,
      "outputs": []
    },
    {
      "cell_type": "code",
      "source": [
        "from sklearn.model_selection import train_test_split\n",
        "from sklearn.metrics import classification_report\n",
        "from sklearn.dummy import DummyClassifier\n",
        "from sklearn.tree import DecisionTreeClassifier\n",
        "from sklearn.naive_bayes import GaussianNB\n",
        "from sklearn.neighbors import KNeighborsClassifier\n",
        "from sklearn.svm import SVC\n",
        "from sklearn.utils import class_weight\n",
        "import pandas as pd\n",
        "from sklearn.svm import SVC\n",
        "from imblearn.over_sampling import SMOTE\n",
        "\n",
        "datos_completos = data.copy()\n",
        "\n",
        "def run_classifier(clf, X, y, num_tests=100):\n",
        "    metrics = {'precision': [], 'recall': [], 'f1-score': []}\n",
        "\n",
        "    for _ in range(num_tests):\n",
        "        X_train, X_test, y_train, y_test = train_test_split(X, y, test_size=.30)\n",
        "\n",
        "        # Aplica oversampling con SMOTE\n",
        "        smote = SMOTE(random_state=42)\n",
        "        X_train_oversampled, y_train_oversampled = smote.fit_resample(X_train, y_train)\n",
        "\n",
        "        # Entrena el clasificador con los datos oversampleados\n",
        "        clf.fit(X_train_oversampled, y_train_oversampled)\n",
        "\n",
        "        # Realiza predicciones\n",
        "        predictions = clf.predict(X_test)\n",
        "\n",
        "        # Calcula las métricas de clasificación\n",
        "        report = classification_report(y_test, predictions, output_dict=True)\n",
        "\n",
        "        # Almacena las métricas de esta iteración\n",
        "        metrics['precision'].append(report['weighted avg']['precision'])\n",
        "        metrics['recall'].append(report['weighted avg']['recall'])\n",
        "        metrics['f1-score'].append(report['weighted avg']['f1-score'])\n",
        "\n",
        "    # Calcula el promedio de las métricas a través de las iteraciones\n",
        "    #avg_metrics = {metric: sum(values) / len(values) for metric, values in metrics.items()}\n",
        "\n",
        "    return classification_report(y_test, predictions)"
      ],
      "metadata": {
        "id": "EgKFxFNJkspi"
      },
      "execution_count": null,
      "outputs": []
    },
    {
      "cell_type": "code",
      "source": [
        "X_train, X_test, y_train, y_test = train_test_split(data.drop(['match'], axis=1), data[\"match\"], test_size=.30)\n",
        "#print(y_train)\n",
        "# Aplica oversampling con SMOTE\n",
        "smote = SMOTE(random_state=42)\n",
        "X_train_oversampled, y_train_oversampled = smote.fit_resample(X_train, y_train)\n",
        "#conteo_match_x = X_train_oversampled[\"match\"].value_counts()\n",
        "conteo_match_y = y_train_oversampled.value_counts()\n",
        "\n",
        "print(conteo_match_y)"
      ],
      "metadata": {
        "id": "VdHwhZ3k1Bag"
      },
      "execution_count": null,
      "outputs": []
    },
    {
      "cell_type": "code",
      "source": [
        "from sklearn.model_selection import GridSearchCV\n",
        "from sklearn.metrics import classification_report\n",
        "\n",
        "\n",
        "#Configure tuned_parameters\n",
        "tuned_parameters = {'n_neighbors': [20, 25, 30, 35, 40, 45, 50],\n",
        "                    'weights': ['uniform','distance']}\n",
        "\n",
        "#set scoring metric\n",
        "score = 'precision'\n",
        "\n",
        "#Construir el clf con GridSearch\n",
        "clf = GridSearchCV(KNeighborsClassifier(),\n",
        "                   param_grid=tuned_parameters,\n",
        "                   cv=10,\n",
        "                   scoring=score)\n",
        "\n",
        "#Entrenar clf\n",
        "clf.fit(X_train, y_train)\n",
        "\n",
        "print(\"Mejor combinación de parámetros:\")\n",
        "print(clf.best_params_)\n",
        "\n",
        "y_pred = clf.predict(X_test)\n",
        "\n",
        "print(classification_report(y_test, y_pred))"
      ],
      "metadata": {
        "id": "qeUxCiu1ONoq"
      },
      "execution_count": null,
      "outputs": []
    },
    {
      "cell_type": "code",
      "source": [
        "from sklearn.model_selection import GridSearchCV\n",
        "from sklearn.tree import DecisionTreeClassifier\n",
        "from sklearn import datasets\n",
        "#Configure tuned_parameters\n",
        "tuned_parameters = {'n_neighbors': [20, 25, 30, 35, 40, 45, 50],\n",
        "                    'weights': ['uniform','distance']}\n",
        "tuned_parameters = {'max_depth': [2, 4, 6, 8, 10],\n",
        "                    'min_samples_split': [2, 5, 10],\n",
        "                    'min_samples_leaf': [1, 2, 3, 4]}\n",
        "\n",
        "clasificador = DecisionTreeClassifier()\n",
        "grid_search = GridSearchCV(clasificador, tuned_parameters)\n",
        "\n",
        "grid_search.fit(X_train, y_train)\n",
        "\n",
        "print(\"Mejor combinación de parámetros:\")\n",
        "print(grid_search.best_params_)\n",
        "\n",
        "y_pred = grid_search.predict(X_test)\n",
        "\n",
        "print(classification_report(y_test, y_pred))\n",
        "\n",
        "print(grid_search.best_score_)"
      ],
      "metadata": {
        "id": "6qavK6J7TYxf"
      },
      "execution_count": null,
      "outputs": []
    },
    {
      "cell_type": "code",
      "source": [
        "# Elimina las filas que contienen valores nulos o faltantes\n",
        "#processed_data = processed_data.dropna()\n",
        "# eliminamos características directamente relacionadas al match\n",
        "#datos_completos.drop(['interests_correlate', 'expected_happy_with_sd_people', 'expected_num_interested_in_me', 'expected_num_matches', 'like', 'guess_prob_liked', 'met', 'wave_o', 'wave', 'field'], axis=1, inplace=True)\n",
        "\n",
        "#\n",
        "X = nuevos_datos.drop(['match'], axis=1) #datos_completos.drop(['match'], axis=1)\n",
        "\n",
        "# Divide el conjunto de datos en características y objetivos\n",
        "y = nuevos_datos['match'] #datos_completos['match']\n",
        "\n",
        "\n",
        "c0 = (\"DummyClassifier(strategy='stratified')\", DummyClassifier(strategy='stratified'))\n",
        "c1 = (\"Decision Tree\", DecisionTreeClassifier(max_depth=2, min_samples_leaf= 1, min_samples_split= 2))\n",
        "c2 = (\"Gaussian Naive Bayes\", GaussianNB())\n",
        "c3 = (\"KNN\", KNeighborsClassifier(n_neighbors=40, weights='distance'))\n",
        "c4 = (\"Support Vector Machines\", SVC())\n",
        "\n",
        "classifiers = [c0, c1, c2, c3, c4]\n",
        "\n",
        "\n",
        "results = {}\n",
        "for name, clf in classifiers:\n",
        "    metrics = run_classifier(clf, X, y)  # llama a la función run_classifier\n",
        "    print(\"----------------\")\n",
        "    print(metrics)\n",
        "    print(\"----------------\\n\\n\")\n",
        "# Imprime los resultados"
      ],
      "metadata": {
        "id": "ctquLSWQkqEg"
      },
      "execution_count": null,
      "outputs": []
    },
    {
      "cell_type": "code",
      "source": [
        "## run_classifier recibe un clasificador y un dataset (X, y)\n",
        "## y opcionalmente la cantidad de resultados que se quiere obtener del clasificador\n",
        "\n",
        "from sklearn.metrics import f1_score, recall_score, precision_score\n",
        "from sklearn.model_selection import train_test_split\n",
        "import numpy as np\n",
        "\n",
        "def run_classifier(clf, X, y, num_tests=100):\n",
        "    metrics = {'precision': [], 'recall': [], 'f1-score': []}\n",
        "\n",
        "    for _ in range(num_tests):\n",
        "        X_train, X_test, y_train, y_test = train_test_split(X, y, test_size=.30)\n",
        "        ### INICIO COMPLETAR ACÁ\n",
        "        clf.fit(X_train, y_train)\n",
        "        predictions = clf.predict(X_test)\n",
        "\n",
        "        #### TIP: en base a los set de entrenamiento, genere la variable 'predictions'\n",
        "        #### que contiene las predicciones del modelo\n",
        "\n",
        "\n",
        "\n",
        "        ### FIN COMPLETAR ACÁ\n",
        "        # 0=Malignant, 1=Benign. In sklearn metrics, positive label is by default=1\n",
        "        metrics['y_pred'] = predictions\n",
        "        metrics['precision'].append(precision_score(y_test, predictions, pos_label=0))\n",
        "        metrics['recall'].append(recall_score(y_test, predictions, pos_label=0))\n",
        "        metrics['f1-score'].append(f1_score(y_test, predictions, pos_label=0))\n",
        "    return metrics"
      ],
      "metadata": {
        "id": "o6gynKsGoyIo"
      },
      "execution_count": null,
      "outputs": []
    },
    {
      "cell_type": "code",
      "source": [
        "from sklearn.datasets import load_breast_cancer\n",
        "from sklearn.dummy import DummyClassifier\n",
        "from sklearn.tree import DecisionTreeClassifier\n",
        "from sklearn.naive_bayes import GaussianNB  # naive bayes\n",
        "from sklearn.neighbors import KNeighborsClassifier #kNN\n",
        "from sklearn.svm import SVC  # support vector machine\n",
        "\n",
        "#bc = load_breast_cancer()    # dataset cancer de mamas\n",
        "X_bc = processed_data\n",
        "y_bc = y\n",
        "\n",
        "c0 = (\"Base Dummy\", DummyClassifier(strategy='stratified'))\n",
        "c1 = (\"Decision Tree\", DecisionTreeClassifier(max_depth=5))\n",
        "c2 = (\"Gaussian Naive Bayes\", GaussianNB())\n",
        "c3 = (\"KNN\", KNeighborsClassifier(n_neighbors=10))\n",
        "c4 = (\"Support Vector Machines\", SVC())\n",
        "\n",
        "classifiers = [c0, c1, c2, c3, c4]\n",
        "\n",
        "results = {}\n",
        "for name, clf in classifiers:\n",
        "    metrics = run_classifier(clf, X_bc, y_bc)   # hay que implementarla en el bloque anterior.\n",
        "    results[name] = metrics\n",
        "    print(\"----------------\")\n",
        "    print(\"Resultados para clasificador: \", name)\n",
        "    print(\"Precision promedio:\", np.array(metrics['precision']).mean())\n",
        "    print(\"Recall promedio:\", np.array(metrics['recall']).mean())\n",
        "    print(\"F1-score promedio:\", np.array(metrics['f1-score']).mean())\n",
        "    print(\"----------------\\n\\n\")"
      ],
      "metadata": {
        "id": "0KdxgS9pphos"
      },
      "execution_count": null,
      "outputs": []
    },
    {
      "cell_type": "code",
      "source": [
        "from google.colab import drive\n",
        "drive.mount('/content/drive')"
      ],
      "metadata": {
        "id": "RH2I7qUQBd7z"
      },
      "execution_count": null,
      "outputs": []
    },
    {
      "cell_type": "code",
      "source": [
        "dataset_sample.shape"
      ],
      "metadata": {
        "id": "Z6SGSVYmUQzm"
      },
      "execution_count": null,
      "outputs": []
    },
    {
      "cell_type": "code",
      "source": [
        "modified_data = dataset_sample.copy()\n",
        "\n",
        "#muestreo de 100 filas\n",
        "#modified_data = modified_data.sample(n=1000)\n",
        "modified_data = modified_data.sort_values(by=\"wave\")\n",
        "modified_data.reset_index(drop=True, inplace=True)\n",
        "modified_data.to_csv(\"test.csv\", index=False)"
      ],
      "metadata": {
        "id": "Xg7f6tHshgh1"
      },
      "execution_count": null,
      "outputs": []
    },
    {
      "cell_type": "code",
      "source": [
        "#una sola vez\n",
        "test = modified_data.copy()"
      ],
      "metadata": {
        "id": "5q3jagzKiGRB"
      },
      "execution_count": null,
      "outputs": []
    },
    {
      "cell_type": "code",
      "source": [
        "#cada vez que se recarga\n",
        "modified_data = test.copy()"
      ],
      "metadata": {
        "id": "NvXZ_vLniUmC"
      },
      "execution_count": null,
      "outputs": []
    },
    {
      "cell_type": "code",
      "source": [
        "modified_data.shape"
      ],
      "metadata": {
        "id": "cvznwPMljncI"
      },
      "execution_count": null,
      "outputs": []
    },
    {
      "cell_type": "code",
      "source": [
        "#data_results = modified_data.columns.tolist()\n",
        "\n",
        "data_results = modified_data.copy()\n",
        "\n",
        "# Eliminar todas las filas del DataFrame copia\n",
        "data_results = data_results.drop(data_results.index)\n",
        "# Mostrar los encabezados\n",
        "print(data_results)"
      ],
      "metadata": {
        "id": "vJuhVsRHsCZ1"
      },
      "execution_count": null,
      "outputs": []
    },
    {
      "cell_type": "code",
      "source": [
        "cols = modified_data.shape[1]\n",
        "for col in modified_data.columns:\n",
        "  cantidad_nan = modified_data[col].isna().sum()\n",
        "  print(f\"La columna '{col}' tiene \\n{cantidad_nan} valores NaN.\")\n"
      ],
      "metadata": {
        "id": "-zTobq3gxDz6"
      },
      "execution_count": null,
      "outputs": []
    },
    {
      "cell_type": "code",
      "source": [
        "modified_data.drop(['ambition_o', 'ambition_partner', 'shared_interests_partner', 'shared_interests_o'], axis=1, inplace=True)"
      ],
      "metadata": {
        "id": "FLzB0GfE7J5D"
      },
      "execution_count": null,
      "outputs": []
    },
    {
      "cell_type": "code",
      "source": [
        "l = modified_data.shape[0]\n",
        "\n",
        "# Iterar sobre cada fila del dataset_sampleFrame\n",
        "for i in range(l):\n",
        "    match_found = False\n",
        "    row = modified_data.iloc[i]\n",
        "    #print(i, row[\"wave\"])\n",
        "    # if(i == l-1):\n",
        "    #   break\n",
        "\n",
        "    # Comparar con cada fila restante en el dataset_sampleFrame\n",
        "    for j in range(i + 1, l):\n",
        "        compare_row = modified_data.iloc[j]\n",
        "        if (row['wave'] != compare_row['wave']):\n",
        "          break\n",
        "\n",
        "        # Comprobar las condiciones de match\n",
        "        if (\n",
        "            row['age'] == compare_row['age_o'] and\n",
        "            row['age_o'] == compare_row['age'] and\n",
        "            row['d_age'] == compare_row['d_age'] and\n",
        "            row['race_o'] == compare_row['race'] and\n",
        "            row['race'] == compare_row['race_o'] and\n",
        "            row['decision_o'] == compare_row['decision'] and\n",
        "            row['decision'] == compare_row['decision_o'] and\n",
        "            row['match'] == compare_row['match'] and\n",
        "            #ahora comparar al reves es decir compare row attractive important con  row pref_o_attractive y con cada uno\n",
        "            row['attractive_important'] == compare_row['pref_o_attractive'] and\n",
        "            row['pref_o_attractive'] == compare_row['attractive_important'] and\n",
        "            row['sincere_important'] == compare_row['pref_o_sincere'] and\n",
        "            row['pref_o_sincere'] == compare_row['sincere_important'] and\n",
        "            row['pref_o_intelligence'] == compare_row['pref_o_intelligence'] and\n",
        "            row['pref_o_intelligence'] == compare_row['pref_o_intelligence'] and\n",
        "            row['funny_important'] == compare_row['pref_o_funny'] and\n",
        "            row['pref_o_funny'] == compare_row['funny_important'] and\n",
        "            row['ambtition_important'] == compare_row['pref_o_ambitious'] and\n",
        "            row['pref_o_ambitious'] == compare_row['ambtition_important'] and\n",
        "            row['shared_interests_important'] == compare_row['pref_o_shared_interests'] and\n",
        "            row['pref_o_shared_interests'] == compare_row['shared_interests_important'] and\n",
        "\n",
        "            #attractive_o\tsinsere_o\tintelligence_o\tfunny_o\tambitous_o\tshared_interests_o\n",
        "            #attractive_partner\tsincere_partner\tintelligence_partner\tfunny_partner\tambition_partner\tshared_interests_partner\n",
        "            #ahora comparar row attractive_o con compare_row attractive_partner y al reves con cada uno\n",
        "            row['attractive_o'] == compare_row['attractive_partner'] and\n",
        "            row['attractive_partner'] == compare_row['attractive_o'] and\n",
        "            row['sincere_o'] == compare_row['sincere_partner'] and\n",
        "            row['sincere_partner'] == compare_row['sincere_o'] and\n",
        "            row['intelligence_o'] == compare_row['intelligence_partner'] and\n",
        "            row['intelligence_partner'] == compare_row['intelligence_o'] and\n",
        "            row['funny_o'] == compare_row['funny_partner'] and\n",
        "            row['funny_partner'] == compare_row['funny_o'] #and\n",
        "            #row['ambition_o'] == compare_row['ambition_partner'] and\n",
        "            #row['ambition_partner'] == compare_row['ambition_o'] and\n",
        "            #row['shared_interests_o'] == compare_row['shared_interests_partner'] and\n",
        "            #row['shared_interests_partner'] == compare_row['shared_interests_o']\n",
        "\n",
        "            ):\n",
        "            #print(\"iguales\")\n",
        "            # Agregar los atributos correspondientes (el nombre de la columna es el de abajo)\n",
        "            #sports\ttvsports\texercise\tdining\tmuseums\tart\thiking\tgaming\tclubbing\treading\ttv\ttheater\tmovies\tconcerts\tmusic\tshopping\tyoga\n",
        "            # ahora con : attractive\tsincere\tintelligence\tfunny\tambition\n",
        "\n",
        "            #data_results = pd.concat([data_results, row], ignore_index = False)\n",
        "\n",
        "            #new_row = {'Name': 'Mike', 'Age': 35}\n",
        "            # Add the new row to the DataFrame\n",
        "            #df_updated = df_original.append(new_row, ignore_index=True)\n",
        "\n",
        "            data_results = data_results.append(row, ignore_index=False)\n",
        "\n",
        "            data_results.at[i, 'sports_partner'] = compare_row['sports']\n",
        "            data_results.at[i, 'tvsports_partner'] = compare_row['tvsports']\n",
        "            data_results.at[i, 'exercise_partner'] = compare_row['exercise']\n",
        "            data_results.at[i, 'dining_partner'] = compare_row['dining']\n",
        "            data_results.at[i, 'museums_partner'] = compare_row['museums']\n",
        "            data_results.at[i, 'art_partner'] = compare_row['art']\n",
        "            data_results.at[i, 'hiking_partner'] = compare_row['hiking']\n",
        "            data_results.at[i, 'gaming_partner'] = compare_row['gaming']\n",
        "            data_results.at[i, 'clubbing_partner'] = compare_row['clubbing']\n",
        "            data_results.at[i, 'reading_partner'] = compare_row['reading']\n",
        "            data_results.at[i, 'tv_partner'] = compare_row['tv']\n",
        "            data_results.at[i, 'theater_partner'] = compare_row['theater']\n",
        "            data_results.at[i, 'movies_partner'] = compare_row['movies']\n",
        "            data_results.at[i, 'concerts_partner'] = compare_row['concerts']\n",
        "            data_results.at[i, 'music_partner'] = compare_row['music']\n",
        "            data_results.at[i, 'shopping_partner'] = compare_row['shopping']\n",
        "            data_results.at[i, 'yoga_partner'] = compare_row['yoga']\n",
        "            data_results.at[i, 'perception_attractive_partner'] = compare_row['attractive']\n",
        "            data_results.at[i, 'perception_sincere_partner'] = compare_row['sincere']\n",
        "            data_results.at[i, 'perception_intelligence_partner'] = compare_row['intelligence']\n",
        "            data_results.at[i, 'perception_funny_partner'] = compare_row['funny']\n",
        "            data_results.at[i, 'perception_ambition_partner'] = compare_row['ambition']\n",
        "            #data_results.at[i, 'wave_o'] = compare_row['wave']\n",
        "\n",
        "            match_found = True\n",
        "            break\n",
        "\n",
        "# Actualizar el DataFrame original\n",
        "data = data_results.copy()#modified_data"
      ],
      "metadata": {
        "id": "KTQDB0Ri_T2s"
      },
      "execution_count": null,
      "outputs": []
    },
    {
      "cell_type": "code",
      "source": [
        "print(data_results)"
      ],
      "metadata": {
        "id": "g2GxZXH25_Zi"
      },
      "execution_count": null,
      "outputs": []
    },
    {
      "cell_type": "code",
      "source": [
        "data_results.shape"
      ],
      "metadata": {
        "id": "BJewrauF8fNH"
      },
      "execution_count": null,
      "outputs": []
    },
    {
      "cell_type": "code",
      "source": [
        "print(data)\n",
        "#data = data[data[\"correct_row\"]]\n",
        "\n",
        "# Reiniciar el índice del DataFrame resultante\n",
        "data.reset_index(drop=True, inplace=True)\n",
        "\n",
        "# Mostrar el DataFrame resultante\n",
        "print(data)\n",
        "\n",
        "#sacar columnas que no están contempladas\n",
        "#row['ambition_o'] == compare_row['ambition_partner'] and\n",
        "            #row['ambition_partner'] == compare_row['ambition_o'] and\n",
        "            #row['shared_interests_o'] == compare_row['shared_interests_partner'] and\n",
        "            #row['shared_interests_partner'] == compare_row['shared_interests_o']\n",
        "data.drop(['ambition_o', 'ambition_partner','shared_interests_o', 'shared_interests_partner', 'decision', 'decision_o', 'interests_correlate', 'expected_happy_with_sd_people', 'expected_num_interested_in_me', 'expected_num_matches', 'like', 'guess_prob_liked', 'met', 'wave', 'field'], axis=1, inplace=True)"
      ],
      "metadata": {
        "id": "5P9OaV-6-TEs"
      },
      "execution_count": null,
      "outputs": []
    },
    {
      "cell_type": "code",
      "source": [
        "#data.drop(['ambition_o', 'ambition_partner','shared_interests_o', 'shared_interests_partner'], axis=1, inplace=True)"
      ],
      "metadata": {
        "id": "mBNNxPTqHmkH"
      },
      "execution_count": null,
      "outputs": []
    },
    {
      "cell_type": "code",
      "source": [
        "data[\"gender\"] = data[\"gender\"].replace({\"male\": 0, \"female\": 1})\n",
        "data[\"race\"] = data[\"race\"].replace({\"Asian\": 0, \"European\": 1, \"Latino\": 2, \"African\": 3, \"Other\": 4})\n",
        "data[\"race_o\"] = data[\"race_o\"].replace({\"Asian\": 0, \"European\": 1, \"Latino\": 2, \"African\":3, \"Other\": 4})\n",
        "# Mostrar el DataFrame actualizado\n",
        "print(data)"
      ],
      "metadata": {
        "id": "CYeX49Ssapvj"
      },
      "execution_count": null,
      "outputs": []
    },
    {
      "cell_type": "code",
      "source": [
        "print(data.shape)\n",
        "data.columns"
      ],
      "metadata": {
        "id": "5pjwwCFkfPS_"
      },
      "execution_count": null,
      "outputs": []
    },
    {
      "cell_type": "code",
      "source": [
        "data.to_csv(\"test_result.csv\", index=False)"
      ],
      "metadata": {
        "id": "Vg8yemApX6l9"
      },
      "execution_count": null,
      "outputs": []
    },
    {
      "cell_type": "code",
      "source": [
        "#data_sna = data.copy()\n",
        "\n",
        "data = data.dropna(subset=data.columns)\n",
        "\n",
        "# Mostrar el DataFrame resultante\n",
        "data.shape\n"
      ],
      "metadata": {
        "id": "KJI6fWTJ_z0s"
      },
      "execution_count": null,
      "outputs": []
    },
    {
      "cell_type": "code",
      "source": [
        "conteo_match = data[\"match\"].value_counts()\n",
        "print(conteo_match)\n",
        "cols = data.shape[1]\n",
        "for col in data.columns:\n",
        "  cantidad_nan = data[col].isna().sum()\n",
        "  print(f\"La columna '{col}' tiene \\n{cantidad_nan} valores NaN.\")"
      ],
      "metadata": {
        "id": "znPAp6cXtydG"
      },
      "execution_count": null,
      "outputs": []
    },
    {
      "cell_type": "code",
      "source": [
        "X_train, X_test, y_train, y_test = train_test_split(data.drop(['match'], axis=1), data[\"match\"], test_size=.30)\n",
        "\n",
        "# Aplica oversampling con SMOTE\n",
        "smote = SMOTE(random_state=42)\n",
        "X_train_oversampled, y_train_oversampled = smote.fit_resample(X_train, y_train)\n",
        "#conteo_match_x = X_train_oversampled[\"match\"].value_counts()\n",
        "conteo_match_y = y_train_oversampled.value_counts()\n",
        "\n",
        "print(conteo_match_y)"
      ],
      "metadata": {
        "id": "itlm9S07uH8n"
      },
      "execution_count": null,
      "outputs": []
    },
    {
      "cell_type": "code",
      "source": [
        "from sklearn.model_selection import GridSearchCV\n",
        "from sklearn.metrics import classification_report\n",
        "\n",
        "\n",
        "#Configure tuned_parameters\n",
        "tuned_parameters = {'n_neighbors': [20, 25, 30, 35, 40, 45, 50],\n",
        "                    'weights': ['uniform','distance']}\n",
        "\n",
        "#set scoring metric\n",
        "score = 'precision'\n",
        "\n",
        "#Construir el clf con GridSearch\n",
        "clf = GridSearchCV(KNeighborsClassifier(),\n",
        "                   param_grid=tuned_parameters,\n",
        "                   cv=10,\n",
        "                   scoring=score)\n",
        "\n",
        "#Entrenar clf\n",
        "clf.fit(X_train, y_train)\n",
        "\n",
        "print(\"Mejor combinación de parámetros:\")\n",
        "print(clf.best_params_)\n",
        "\n",
        "y_pred = clf.predict(X_test)\n",
        "\n",
        "print(classification_report(y_test, y_pred))"
      ],
      "metadata": {
        "id": "IWFPDkteuQVs"
      },
      "execution_count": null,
      "outputs": []
    },
    {
      "cell_type": "code",
      "source": [
        "from sklearn.model_selection import GridSearchCV\n",
        "from sklearn.tree import DecisionTreeClassifier\n",
        "from sklearn import datasets\n",
        "#Configure tuned_parameters\n",
        "tuned_parameters = {'n_neighbors': [20, 25, 30, 35, 40, 45, 50],\n",
        "                    'weights': ['uniform','distance']}\n",
        "tuned_parameters = {'max_depth': [2, 4, 6, 8, 10],\n",
        "                    'min_samples_split': [2, 5, 10],\n",
        "                    'min_samples_leaf': [1, 2, 3, 4]}\n",
        "\n",
        "clasificador = DecisionTreeClassifier()\n",
        "grid_search = GridSearchCV(clasificador, tuned_parameters)\n",
        "\n",
        "grid_search.fit(X_train, y_train)\n",
        "\n",
        "print(\"Mejor combinación de parámetros:\")\n",
        "print(grid_search.best_params_)\n",
        "\n",
        "y_pred = grid_search.predict(X_test)\n",
        "\n",
        "print(classification_report(y_test, y_pred))\n",
        "\n",
        "print(grid_search.best_score_)"
      ],
      "metadata": {
        "id": "rPrMyJLruY2-"
      },
      "execution_count": null,
      "outputs": []
    },
    {
      "cell_type": "code",
      "source": [
        "# Elimina las filas que contienen valores nulos o faltantes\n",
        "#processed_data = processed_data.dropna()\n",
        "# eliminamos características directamente relacionadas al match\n",
        "#datos_completos.drop(['interests_correlate', 'expected_happy_with_sd_people', 'expected_num_interested_in_me', 'expected_num_matches', 'like', 'guess_prob_liked', 'met', 'wave_o', 'wave', 'field'], axis=1, inplace=True)\n",
        "\n",
        "#\n",
        "X = nuevos_datos.drop(['match'], axis=1) #datos_completos.drop(['match'], axis=1)\n",
        "\n",
        "# Divide el conjunto de datos en características y objetivos\n",
        "y = nuevos_datos['match'] #datos_completos['match']\n",
        "\n",
        "\n",
        "c0 = (\"DummyClassifier(strategy='stratified')\", DummyClassifier(strategy='stratified'))\n",
        "c1 = (\"Decision Tree\", DecisionTreeClassifier(max_depth=2, min_samples_leaf= 1, min_samples_split= 2))\n",
        "c2 = (\"Gaussian Naive Bayes\", GaussianNB())\n",
        "c3 = (\"KNN\", KNeighborsClassifier(n_neighbors=40, weights='distance'))\n",
        "c4 = (\"Support Vector Machines\", SVC())\n",
        "\n",
        "classifiers = [c0, c1, c2, c3, c4]\n",
        "\n",
        "\n",
        "results = {}\n",
        "for name, clf in classifiers:\n",
        "    metrics = run_classifier(clf, X, y)  # llama a la función run_classifier\n",
        "    print(\"----------------\")\n",
        "    print(metrics)\n",
        "    print(\"----------------\\n\\n\")\n",
        "# Imprime los resultados"
      ],
      "metadata": {
        "id": "Mya74_UzufJg"
      },
      "execution_count": null,
      "outputs": []
    },
    {
      "cell_type": "code",
      "source": [
        "## run_classifier recibe un clasificador y un dataset (X, y)\n",
        "## y opcionalmente la cantidad de resultados que se quiere obtener del clasificador\n",
        "\n",
        "from sklearn.metrics import f1_score, recall_score, precision_score\n",
        "from sklearn.model_selection import train_test_split\n",
        "import numpy as np\n",
        "\n",
        "def run_classifier(clf, X, y, num_tests=100):\n",
        "    metrics = {'precision': [], 'recall': [], 'f1-score': []}\n",
        "\n",
        "    for _ in range(num_tests):\n",
        "        X_train, X_test, y_train, y_test = train_test_split(X, y, test_size=.30)\n",
        "        ### INICIO COMPLETAR ACÁ\n",
        "        clf.fit(X_train, y_train)\n",
        "        predictions = clf.predict(X_test)\n",
        "\n",
        "        #### TIP: en base a los set de entrenamiento, genere la variable 'predictions'\n",
        "        #### que contiene las predicciones del modelo\n",
        "\n",
        "\n",
        "\n",
        "        ### FIN COMPLETAR ACÁ\n",
        "        # 0=Malignant, 1=Benign. In sklearn metrics, positive label is by default=1\n",
        "        metrics['y_pred'] = predictions\n",
        "        metrics['precision'].append(precision_score(y_test, predictions, pos_label=0))\n",
        "        metrics['recall'].append(recall_score(y_test, predictions, pos_label=0))\n",
        "        metrics['f1-score'].append(f1_score(y_test, predictions, pos_label=0))\n",
        "    return metrics"
      ],
      "metadata": {
        "id": "t52TNeNsuoTg"
      },
      "execution_count": null,
      "outputs": []
    },
    {
      "cell_type": "code",
      "source": [
        "from sklearn.datasets import load_breast_cancer\n",
        "from sklearn.dummy import DummyClassifier\n",
        "from sklearn.tree import DecisionTreeClassifier\n",
        "from sklearn.naive_bayes import GaussianNB  # naive bayes\n",
        "from sklearn.neighbors import KNeighborsClassifier #kNN\n",
        "from sklearn.svm import SVC  # support vector machine\n",
        "\n",
        "#bc = load_breast_cancer()    # dataset cancer de mamas\n",
        "X_bc = processed_data\n",
        "y_bc = y\n",
        "\n",
        "c0 = (\"Base Dummy\", DummyClassifier(strategy='stratified'))\n",
        "c1 = (\"Decision Tree\", DecisionTreeClassifier(max_depth=5))\n",
        "c2 = (\"Gaussian Naive Bayes\", GaussianNB())\n",
        "c3 = (\"KNN\", KNeighborsClassifier(n_neighbors=10))\n",
        "c4 = (\"Support Vector Machines\", SVC())\n",
        "\n",
        "classifiers = [c0, c1, c2, c3, c4]\n",
        "\n",
        "results = {}\n",
        "for name, clf in classifiers:\n",
        "    metrics = run_classifier(clf, X_bc, y_bc)   # hay que implementarla en el bloque anterior.\n",
        "    results[name] = metrics\n",
        "    print(\"----------------\")\n",
        "    print(\"Resultados para clasificador: \", name)\n",
        "    print(\"Precision promedio:\", np.array(metrics['precision']).mean())\n",
        "    print(\"Recall promedio:\", np.array(metrics['recall']).mean())\n",
        "    print(\"F1-score promedio:\", np.array(metrics['f1-score']).mean())\n",
        "    print(\"----------------\\n\\n\")"
      ],
      "metadata": {
        "id": "sFmRlXDjuvoS"
      },
      "execution_count": null,
      "outputs": []
    },
    {
      "cell_type": "markdown",
      "source": [
        "# Experimento 3(Clustering):\n",
        "\n"
      ],
      "metadata": {
        "id": "Tevy9rwshlA_"
      }
    },
    {
      "cell_type": "code",
      "source": [
        "from sklearn.preprocessing import OneHotEncoder\n",
        "from sklearn.impute import KNNImputer\n",
        "\n",
        "#eliminamos  columna de ocupaciones pues son demasiadas diferentes que no aportan al modelo\n",
        "#eliminamos  columna wave que no tienen sentido en el modelo (labels  o informacion innecesaria)\n",
        "processed_data3=dataset_sample.drop(['field','wave','decision'],axis=1)\n",
        "\n",
        "#transformamos columnas categóricas (son todas nominales)  en numéricas aprevechamos race, race_o y genero\n",
        "nominal_categories = processed_data3[['gender', 'race', 'race_o']]\n",
        "encoder = OneHotEncoder(sparse_output=False)\n",
        "nominal_encoded=encoder.fit_transform(nominal_categories)\n",
        "columns_encoded = encoder.get_feature_names_out(nominal_categories.columns)\n",
        "nominal_categories = pd.DataFrame(nominal_encoded, columns=columns_encoded)\n",
        "\n",
        "processed_data3=processed_data3.drop(['gender', 'race', 'race_o'],axis=1)\n",
        "processed_data3=pd.concat([processed_data3, nominal_categories], axis=1)\n",
        "\n",
        "# no se hará inputación por knn  pues sería  introducir cluster sintéticos"
      ],
      "metadata": {
        "id": "2wVpf5FCw2hE"
      },
      "execution_count": null,
      "outputs": []
    },
    {
      "cell_type": "code",
      "source": [
        "#eliminamos columnas  que no son propias  del participante\n",
        "partner_columns=['age_o','d_age','met','samerace','pref_o_attractive','pref_o_sincere','pref_o_intelligence','pref_o_funny','pref_o_ambitious','pref_o_shared_interests','race_o_African'\n",
        ",'race_o_Asian','race_o_European','race_o_Latino','race_o_Not mencioned', 'race_o_Other','pid','interests_correlate','shared_interests_o',\"attractive_partner\",\"sincere_partner\",\"intelligence_partner\",\"funny_partner\",\"ambition_partner\"]\n",
        "\n",
        "# calification_onpartners_atributes=[]\n",
        "# labels_columns=[]\n",
        "participant_data=processed_data3.drop(partner_columns,axis=1)\n",
        "#eliminamos columnas label\n",
        "participant_labels=participant_data[['decision_o',\"match\"]]\n",
        "participant_data=participant_data.drop(columns=['decision_o',\"match\"])\n",
        "\n",
        "participant_data.columns\n",
        "\n"
      ],
      "metadata": {
        "id": "LQ_aZsg-xyA5"
      },
      "execution_count": null,
      "outputs": []
    },
    {
      "cell_type": "code",
      "source": [
        "# agrupamiento  por  individuo  (no por interacciones)\n",
        "participant_data=participant_data.groupby('iid').mean()\n",
        "print(participant_data.shape)\n",
        "print(participant_data.isna().sum())\n",
        "#eliminamos expected interested in me  (425 nulos  de 512)\n",
        "participant_data=participant_data.drop(['expected_num_interested_in_me',\"expected_num_matches\"],axis=1)\n"
      ],
      "metadata": {
        "id": "ymUw7MQEx2OW"
      },
      "execution_count": null,
      "outputs": []
    },
    {
      "cell_type": "code",
      "source": [
        "#eliminamos nulos\n",
        "participant_data=participant_data.dropna()\n",
        "print(participant_data.shape)\n",
        "participant_data.columns\n"
      ],
      "metadata": {
        "id": "bH2uqo5bx4fY"
      },
      "execution_count": null,
      "outputs": []
    },
    {
      "cell_type": "code",
      "source": [
        " #escalamiento de datos\n",
        "from sklearn.preprocessing import RobustScaler\n",
        "\n",
        "scaler = RobustScaler().set_output(transform=\"pandas\")\n",
        "\n",
        "scaler.fit(participant_data)\n",
        "scaled_participant_data=scaler.transform(participant_data)\n",
        "scaled_participant_data"
      ],
      "metadata": {
        "id": "nbhs1qn7x6R1"
      },
      "execution_count": null,
      "outputs": []
    },
    {
      "cell_type": "code",
      "source": [
        "# consistencia de colores\n",
        "colors=[\"#eaa941\", \"#53a447\", \"#3b387f\", \"#48a2ba\"]\n",
        "colormap= matplotlib.colors.ListedColormap(colors)"
      ],
      "metadata": {
        "id": "WJMJ0BXHx_cE"
      },
      "execution_count": null,
      "outputs": []
    },
    {
      "cell_type": "code",
      "source": [
        "#PCA\n",
        "import matplotlib.pyplot as plt\n",
        "from sklearn.decomposition import PCA\n",
        "\n",
        "pca =PCA(n_components=20).fit(participant_data).set_output(transform='pandas')\n",
        "df_pca=pca.transform(participant_data)\n",
        "\n",
        "#explicacion varianza\n",
        "fig= plt.figure(figsize=(20, 5))\n",
        "fig.suptitle(\"Visualización de datos\")\n",
        "\n",
        "#grafico 2 componentes\n",
        "ax2 = plt.subplot(1, 3, 2)\n",
        "ax2.scatter(df_pca.iloc[:,0],df_pca.iloc[:,1])\n",
        "ax2.set_title(\"Nube de puntos usando 2 componentes\")\n",
        "\n",
        "# grafico 3 componentes\n",
        "ax3 = plt.subplot(1, 3, 3,projection='3d')\n",
        "ax3.scatter(df_pca.iloc[:,0],df_pca.iloc[:,1],df_pca.iloc[:,2])\n",
        "ax3.set_title(\"Nube de puntos usando 3 componentes\")\n",
        "\n",
        "# grafico 1explicacion de la varianza\n",
        "ax1 = plt.subplot(1, 3, 1)\n",
        "ax1.set_title(\"Explicación varianza\")\n",
        "print(pca.explained_variance_ratio_.cumsum())\n",
        "ax1.set_title(\"Explicación varianza\")\n",
        "ax1.plot(pca.explained_variance_ratio_.cumsum(),marker=\"o\")\n",
        "ax1.set_xticks([x for x in range(1,21)])\n",
        "ax1.set_ylabel(\"Porcentaje\")\n",
        "ax1.set_xlabel(\"Número de componentes\")\n",
        "\n",
        "\n"
      ],
      "metadata": {
        "id": "rTxyj8q-yCfg"
      },
      "execution_count": null,
      "outputs": []
    },
    {
      "cell_type": "markdown",
      "source": [
        "## Estimacion numero de clusters\n"
      ],
      "metadata": {
        "id": "DJ7Si3f7yJMb"
      }
    },
    {
      "cell_type": "markdown",
      "source": [
        "### Metodo codo para Kmeans y  rodilla DBscan"
      ],
      "metadata": {
        "id": "RxWfZvLoydjn"
      }
    },
    {
      "cell_type": "code",
      "source": [
        "#codo\n",
        "from sklearn.cluster import KMeans\n",
        "from sklearn.neighbors import NearestNeighbors\n",
        "import numpy as np\n",
        "\n",
        "SSE = []\n",
        "numClusters = list(range(1, 10))\n",
        "for k in numClusters:\n",
        "    k_means = KMeans(n_clusters=k, n_init=50, random_state=1)\n",
        "    k_means.fit(participant_data)\n",
        "    SSE.append(k_means.inertia_)\n",
        "\n",
        "#rodilla\n",
        "N =3\n",
        "nbrs = NearestNeighbors(n_neighbors=N).fit(participant_data)\n",
        "distances, indices = nbrs.kneighbors(participant_data)\n",
        "\n",
        "distances = np.sort(distances, axis=0)\n",
        "distances = distances[:,1]\n",
        "\n",
        "#explicacion varianza\n",
        "fig,ax= plt.subplots(1,2,figsize=(15, 5))\n",
        "\n",
        "fig.suptitle(\"Estimación Clusters\")\n",
        "# grafico codo\n",
        "\n",
        "ax[0].plot(numClusters, SSE, marker=\"o\")\n",
        "ax[0].set_title(\"Método del Codo\")\n",
        "ax[0].set_xlabel('Número de Clusters')\n",
        "ax[0].set_ylabel('SSE')\n",
        "\n",
        "# grafico rodilla\n",
        "ax[1].axhline(y=22, color='r', linestyle='--',label=\"22\")\n",
        "ax[1].legend()\n",
        "ax[1].set_title(\"Método de la Rodilla\")\n",
        "ax[1].set_xlabel('eps')\n",
        "ax[1].plot(distances)\n"
      ],
      "metadata": {
        "id": "ViGXE2lvyjV8"
      },
      "execution_count": null,
      "outputs": []
    },
    {
      "cell_type": "markdown",
      "source": [
        "\n",
        "## Asignacion de clusters\n",
        "\n"
      ],
      "metadata": {
        "id": "0ehrTjI8yqT1"
      }
    },
    {
      "cell_type": "code",
      "source": [
        "from matplotlib.patches import Patch\n",
        "k_means = KMeans(n_clusters=2, n_init=10, random_state=1)\n",
        "k_means.fit(participant_data)\n",
        "y_pred_2 = k_means.labels_ #kmeans.predictdf)\n",
        "y_pred_2\n",
        "\n",
        "# Crear etiquetas de la leyenda con colores\n",
        "labels = np.unique(y_pred_2)\n",
        "legend_labels = []\n",
        "for label in labels:\n",
        "    legend_labels.append(Patch(color=colormap(label), label=f'Cluster {label}'))\n",
        "\n",
        "fig= plt.figure(figsize=(15, 5))\n",
        "fig.suptitle(\"Asignación de clusters Kmeans\")\n",
        "\n",
        "# grafico  de dimensiones reducidas (2) usando PCA\n",
        "ax1 = plt.subplot(1, 2, 1)\n",
        "ax1.scatter(df_pca.iloc[:,0],df_pca.iloc[:,1],c=colormap(y_pred_2),cmap=colormap)\n",
        "ax1.set_title(\"Nube de puntos usando 2 componentes\")\n",
        "ax1.legend(handles=legend_labels)\n",
        "# grafico  de dimensiones reducidas (3) usando PCA\n",
        "ax2 = plt.subplot(1, 2, 2,projection='3d')\n",
        "ax2.set_title(\"Nube de puntos usando 3 componentes\")\n",
        "ax2.scatter(df_pca.iloc[:,0],df_pca.iloc[:,1],df_pca.iloc[:,2],c=colormap(y_pred_2),cmap=colormap)\n",
        "ax2.legend(handles=legend_labels)\n",
        "\n",
        "\n",
        "\n",
        "pd.Series(k_means.labels_).value_counts()"
      ],
      "metadata": {
        "id": "tch8oRotyoCA"
      },
      "execution_count": null,
      "outputs": []
    },
    {
      "cell_type": "code",
      "source": [
        "# Respuesta código\n",
        "from sklearn.cluster import DBSCAN\n",
        "from sklearn.decomposition import PCA\n",
        "\n",
        "\n",
        "pca = PCA(n_components=2).fit(participant_data)\n",
        "rates_pca = pca.transform(participant_data)\n",
        "\n",
        "fig,ax= plt.subplots(1,3,figsize=(15, 5))\n",
        "fig.suptitle(\"Asignación de clusters DBScan\")\n",
        "\n",
        "for  i in range(0,3):\n",
        "    eps =20+i\n",
        "    min_samples = 20\n",
        "    dbscan = DBSCAN(eps=eps, min_samples=min_samples).fit(rates_pca)\n",
        "    # Crear etiquetas de la leyenda con colores\n",
        "    labels = np.unique(dbscan.labels_)\n",
        "    legend_labels = []\n",
        "    for label in labels:\n",
        "        legend_labels.append(Patch(color= colormap(label+3) , label=f'Cluster {label}'if label > -1 else \"-1\"))\n",
        "\n",
        "    ax[i].scatter(rates_pca[:,0], rates_pca[:,1], c=colormap(dbscan.labels_+3),cmap=colormap)\n",
        "    ax[i].set_title(f\"DBSCAN: eps={eps}, min_samples={min_samples}\")\n",
        "    ax[i].legend(handles=legend_labels)\n",
        "    print(pd.Series(dbscan.labels_).value_counts())\n"
      ],
      "metadata": {
        "id": "W0DoO_ffy1iY"
      },
      "execution_count": null,
      "outputs": []
    },
    {
      "cell_type": "markdown",
      "source": [
        "## Validacion de clusters"
      ],
      "metadata": {
        "id": "PPxaY6O2y6GF"
      }
    },
    {
      "cell_type": "markdown",
      "source": [
        "### matriz de similitud"
      ],
      "metadata": {
        "id": "rV2ae-qxy-Wt"
      }
    },
    {
      "cell_type": "code",
      "source": [
        "from sklearn.metrics.pairwise import euclidean_distances\n",
        "\n",
        "def sim_matrix(features, labels):\n",
        "    useful_labels = labels >= 0\n",
        "    # primero ordenamos los datos en base al cluster que pertencen\n",
        "    indices = np.argsort(labels[useful_labels])\n",
        "    sorted_features = features[useful_labels][indices]\n",
        "\n",
        "    # calculamos las distancias entre todos los puntos\n",
        "    d = euclidean_distances(sorted_features, sorted_features)\n",
        "    return d\n",
        "\n",
        "def plot(data, model):\n",
        "\n",
        "    fig,ax= plt.subplots(1,len(model),figsize=(15, 5))\n",
        "    fig.suptitle(\"Matrices de similitud\")\n",
        "    for m in range(len(model)):\n",
        "      ax[m].set_title(f\"{model[m].__class__.__name__}\")\n",
        "      dist = sim_matrix(data, model[m].labels_)\n",
        "      im = ax[m].imshow(dist,)\n",
        "    fig.colorbar(im)"
      ],
      "metadata": {
        "id": "h3j2hl6my9zT"
      },
      "execution_count": null,
      "outputs": []
    },
    {
      "cell_type": "code",
      "source": [
        "# k_means = KMeans(n_clusters=2, n_init=10, random_state=1).fit(participant_data)\n",
        "\n",
        "plot(df_pca.to_numpy(),[k_means,dbscan])\n",
        "# plot(df_pca.to_numpy(),)\n"
      ],
      "metadata": {
        "id": "B_Rnieovy8n0"
      },
      "execution_count": null,
      "outputs": []
    },
    {
      "cell_type": "markdown",
      "source": [
        "### Silhouette"
      ],
      "metadata": {
        "id": "J9qkHVtZzHge"
      }
    },
    {
      "cell_type": "code",
      "source": [
        "from sklearn.metrics import silhouette_score\n",
        "\n",
        "print(\"K-Means\\t\", silhouette_score(participant_data, k_means.labels_))\n",
        "print(\"DBScan\\t\", silhouette_score(participant_data, dbscan.labels_))"
      ],
      "metadata": {
        "id": "Z6Qpqve4zMVH"
      },
      "execution_count": null,
      "outputs": []
    },
    {
      "cell_type": "markdown",
      "source": [
        "## Interpretacion de clusters"
      ],
      "metadata": {
        "id": "AMr7U9_pzN1-"
      }
    },
    {
      "cell_type": "code",
      "source": [
        "labeled_df=pd.concat([participant_data,participant_labels],axis=1)\n",
        "\n",
        "labeled_df['cluster']=pd.Series(k_means.labels_)\n",
        "labeled_df['cluster'].value_counts()"
      ],
      "metadata": {
        "id": "uHBZc_EBzRjJ"
      },
      "execution_count": null,
      "outputs": []
    },
    {
      "cell_type": "code",
      "source": [
        "grouped_data=labeled_df.groupby('cluster')\n",
        "grouped_data.get_group(0).mean()\n"
      ],
      "metadata": {
        "id": "MhHHgbHbzVaK"
      },
      "execution_count": null,
      "outputs": []
    },
    {
      "cell_type": "code",
      "source": [
        "grouped_data.get_group(1).mean()\n"
      ],
      "metadata": {
        "id": "Al-zvGeYzdJe"
      },
      "execution_count": null,
      "outputs": []
    },
    {
      "cell_type": "code",
      "source": [
        "self_percieved_atributes=[\"attractive\",\"sincere\",\"intelligence\",\"funny\",\"ambition\"]\n",
        "preferences=[\"attractive_important\",\"sincere_important\",\"intellicence_important\",\"funny_important\",\"ambtition_important\",\"importance_same_race\",\"importance_same_religion\"]\n",
        "calification_partner_on_me=[\"attractive_o\",\"sincere_o\",\"intelligence_o\",\"funny_o\",\"ambition_o\"]\n",
        "interest_activities=[\"sports\",\"tvsports\",\"exercise\",\"dining\",\"museums\",\"art\",\"hiking\",\"gaming\",\"clubbing\",\"reading\",\"tv\",\"theater\",\"movies\",\"concerts\",\"music\",\"shopping\",\"yoga\"]\n",
        "categorical=[\"gender_female\",\"gender_male\",\"race_African\",\"race_Asian\",\"race_European\",\"race_Latino\",\"race_Not mencioned\",\"race_Other\"]\n",
        "\n",
        "list_atributes=[self_percieved_atributes,preferences,calification_partner_on_me,interest_activities]\n",
        "titles=[\"Precepcion propia en los clusters\",\"Preferencias en clusters\",\"Calificaciones recibidas en clusters\",\"Actividades de interés en clusters\"]"
      ],
      "metadata": {
        "id": "E16_AVg8zjAl"
      },
      "execution_count": null,
      "outputs": []
    },
    {
      "cell_type": "code",
      "source": [
        "for i in range(len(list_atributes)-1):\n",
        "  merge_table=pd.concat([grouped_data.get_group(0).mean().loc[list_atributes[i]],grouped_data.get_group(1).mean().loc[list_atributes[i]]],axis=1)\n",
        "  merge_table=merge_table.rename(columns={0:'cluster 0',1:'cluster 1'})\n",
        "  fig,ax=plt.subplots(1)\n",
        "  fig.suptitle(titles[i])\n",
        "  merge_table.plot.area(stacked=False,ax=ax)\n",
        "  ax.set_ylabel(\"Promedio (1 a 10)\")\n",
        "  ax.tick_params(axis='x', rotation=60)"
      ],
      "metadata": {
        "id": "CxVxow7TzkJR"
      },
      "execution_count": null,
      "outputs": []
    },
    {
      "cell_type": "code",
      "source": [
        "categories_by_cluster=pd.concat([grouped_data.get_group(0).loc[:,categorical].sum()/len(grouped_data.get_group(0)),grouped_data.get_group(1).loc[:,categorical].sum()/len(grouped_data.get_group(1))],axis=1)\n",
        "categories_by_cluster=categories_by_cluster.rename(columns={0:'cluster 0',1:'cluster 1'})\n",
        "#ploting categories_by preferences\n",
        "fig ,ax=plt.subplots()\n",
        "fig.suptitle(\"Variables categoricas por cluster\")\n",
        "categories_by_cluster.plot.barh(ax=ax)\n",
        "ax.set_xlabel(\"Porcentaje\")"
      ],
      "metadata": {
        "id": "eMqlXv_bzpJO"
      },
      "execution_count": null,
      "outputs": []
    },
    {
      "cell_type": "code",
      "source": [
        "categories_by_cluster=pd.concat([grouped_data.get_group(0).loc[:,participant_labels.columns].sum()/len(grouped_data.get_group(0)),grouped_data.get_group(1).loc[:,participant_labels.columns].sum()/len(grouped_data.get_group(1))],axis=1)\n",
        "categories_by_cluster=categories_by_cluster.rename(columns={0:'cluster 0',1:'cluster 1'})\n",
        "#ploting categories_by preferences\n",
        "fig ,ax=plt.subplots()\n",
        "fig.suptitle(\"Porcentaje  de elecciones positivas por cluster\")\n",
        "categories_by_cluster.plot.bar(ax=ax)\n",
        "\n",
        "grouped_data.get_group(0).loc[:,participant_labels.columns]"
      ],
      "metadata": {
        "id": "PqONzsiFzttT"
      },
      "execution_count": null,
      "outputs": []
    },
    {
      "cell_type": "code",
      "source": [],
      "metadata": {
        "id": "sek3HDk-S1Uv"
      },
      "execution_count": null,
      "outputs": []
    }
  ]
}